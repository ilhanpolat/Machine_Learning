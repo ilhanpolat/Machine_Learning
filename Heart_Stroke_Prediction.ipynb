{
 "cells": [
  {
   "cell_type": "markdown",
   "id": "KI0TtW1tvm_r",
   "metadata": {
    "id": "KI0TtW1tvm_r"
   },
   "source": [
    "___\n",
    "\n",
    "<p style=\"text-align: center;\"><img src=\"https://docs.google.com/uc?id=1lY0Uj5R04yMY3-ZppPWxqCr5pvBLYPnV\" class=\"img-fluid\" alt=\"CLRSWY\"></p>\n",
    "\n",
    "___"
   ]
  },
  {
   "cell_type": "markdown",
   "id": "392a02f0-fdda-44ae-a0fc-97f3b03924a9",
   "metadata": {
    "id": "392a02f0-fdda-44ae-a0fc-97f3b03924a9"
   },
   "source": [
    "Data vocabulary:\n",
    "\n",
    "1. #3 (age): age in years \n",
    "2. #4 (sex): sex (1 = male; 0 = female) \n",
    "3. #9 (cp): cp: chest pain type | Value 0: typical angina | Value 1: atypical angina | Value 2: non-anginal pain | Value 3: asymptomatic \n",
    "4. #10 (trestbps): resting blood pressure (in mm Hg on admission to the hospital) \n",
    "5. #12 (chol): serum cholestoral in mg/dl \n",
    "6. #16 (fbs): (fasting blood sugar > 120 mg/dl) (1 = true; 0 = false) \n",
    "7. #19 (restecg): resting electrocardiographic results | Value 0: normal | Value 1: having ST-T wave abnormality (T wave inversions and/or ST elevation or depression of > 0.05 mV) | Value 2: showing probable or definite left ventricular hypertrophy by Estes' criteria \n",
    "8. #32 (thalach): maximum heart rate achieved \n",
    "9. #38 (exang): exercise induced angina (1 = yes; 0 = no) \n",
    "10. #40 (oldpeak): ST depression induced by exercise relative to rest \n",
    "11. #41 (slope): the slope of the peak exercise ST segment | Value 1: upsloping | Value 2: flat | Value 3: downsloping \n",
    "12. #44 (ca): number of major vessels (0-3) colored by flourosopy \n",
    "13. #51 (thal): 3 = normal; 6 = fixed defect; 7 = reversable defect \n",
    "14. #58 (num) (the predicted attribute): Value 0: < 50% diameter narrowing | Value 1: > 50% diameter narrowing \n",
    "\n",
    "\n",
    "* https://archive.ics.uci.edu/ml/datasets/heart+disease"
   ]
  },
  {
   "cell_type": "markdown",
   "id": "2kuJJ54iwAlk",
   "metadata": {
    "id": "2kuJJ54iwAlk"
   },
   "source": [
    "# Import esential Libraries"
   ]
  },
  {
   "cell_type": "code",
   "execution_count": 1,
   "id": "d2f67c2a-c903-4b6c-bcda-2d69e2619192",
   "metadata": {
    "id": "d2f67c2a-c903-4b6c-bcda-2d69e2619192"
   },
   "outputs": [],
   "source": [
    "import numpy as np\n",
    "import pandas as pd\n",
    "import seaborn as sns\n",
    "import matplotlib.pyplot as plt\n",
    "from scipy import stats\n",
    "\n",
    "#%matplotlib inline\n",
    "#%matplotlib notebook\n",
    "plt.rcParams[\"figure.figsize\"] = (10,6)\n",
    "import warnings\n",
    "warnings.filterwarnings(\"ignore\")\n",
    "warnings.warn(\"this will not show\")\n",
    "pd.set_option('display.float_format', lambda x: '%.3f' % x)"
   ]
  },
  {
   "cell_type": "markdown",
   "id": "6Qn_DjhPwKRF",
   "metadata": {
    "id": "6Qn_DjhPwKRF"
   },
   "source": [
    "# Ingest the data to notebook"
   ]
  },
  {
   "cell_type": "code",
   "execution_count": 2,
   "id": "542d4531-d67c-4a30-a836-dc31795ff0e8",
   "metadata": {
    "id": "542d4531-d67c-4a30-a836-dc31795ff0e8"
   },
   "outputs": [
    {
     "data": {
      "text/html": [
       "<div>\n",
       "<style scoped>\n",
       "    .dataframe tbody tr th:only-of-type {\n",
       "        vertical-align: middle;\n",
       "    }\n",
       "\n",
       "    .dataframe tbody tr th {\n",
       "        vertical-align: top;\n",
       "    }\n",
       "\n",
       "    .dataframe thead th {\n",
       "        text-align: right;\n",
       "    }\n",
       "</style>\n",
       "<table border=\"1\" class=\"dataframe\">\n",
       "  <thead>\n",
       "    <tr style=\"text-align: right;\">\n",
       "      <th></th>\n",
       "      <th>age</th>\n",
       "      <th>sex</th>\n",
       "      <th>cp</th>\n",
       "      <th>trestbps</th>\n",
       "      <th>chol</th>\n",
       "      <th>fbs</th>\n",
       "      <th>restecg</th>\n",
       "      <th>thalach</th>\n",
       "      <th>exang</th>\n",
       "      <th>oldpeak</th>\n",
       "      <th>slope</th>\n",
       "      <th>ca</th>\n",
       "      <th>thal</th>\n",
       "      <th>target</th>\n",
       "    </tr>\n",
       "  </thead>\n",
       "  <tbody>\n",
       "    <tr>\n",
       "      <th>0</th>\n",
       "      <td>63</td>\n",
       "      <td>1</td>\n",
       "      <td>3</td>\n",
       "      <td>145</td>\n",
       "      <td>233</td>\n",
       "      <td>1</td>\n",
       "      <td>0</td>\n",
       "      <td>150</td>\n",
       "      <td>0</td>\n",
       "      <td>2.300</td>\n",
       "      <td>0</td>\n",
       "      <td>0</td>\n",
       "      <td>1</td>\n",
       "      <td>1</td>\n",
       "    </tr>\n",
       "    <tr>\n",
       "      <th>1</th>\n",
       "      <td>37</td>\n",
       "      <td>1</td>\n",
       "      <td>2</td>\n",
       "      <td>130</td>\n",
       "      <td>250</td>\n",
       "      <td>0</td>\n",
       "      <td>1</td>\n",
       "      <td>187</td>\n",
       "      <td>0</td>\n",
       "      <td>3.500</td>\n",
       "      <td>0</td>\n",
       "      <td>0</td>\n",
       "      <td>2</td>\n",
       "      <td>1</td>\n",
       "    </tr>\n",
       "    <tr>\n",
       "      <th>2</th>\n",
       "      <td>41</td>\n",
       "      <td>0</td>\n",
       "      <td>1</td>\n",
       "      <td>130</td>\n",
       "      <td>204</td>\n",
       "      <td>0</td>\n",
       "      <td>0</td>\n",
       "      <td>172</td>\n",
       "      <td>0</td>\n",
       "      <td>1.400</td>\n",
       "      <td>2</td>\n",
       "      <td>0</td>\n",
       "      <td>2</td>\n",
       "      <td>1</td>\n",
       "    </tr>\n",
       "    <tr>\n",
       "      <th>3</th>\n",
       "      <td>56</td>\n",
       "      <td>1</td>\n",
       "      <td>1</td>\n",
       "      <td>120</td>\n",
       "      <td>236</td>\n",
       "      <td>0</td>\n",
       "      <td>1</td>\n",
       "      <td>178</td>\n",
       "      <td>0</td>\n",
       "      <td>0.800</td>\n",
       "      <td>2</td>\n",
       "      <td>0</td>\n",
       "      <td>2</td>\n",
       "      <td>1</td>\n",
       "    </tr>\n",
       "    <tr>\n",
       "      <th>4</th>\n",
       "      <td>57</td>\n",
       "      <td>0</td>\n",
       "      <td>0</td>\n",
       "      <td>120</td>\n",
       "      <td>354</td>\n",
       "      <td>0</td>\n",
       "      <td>1</td>\n",
       "      <td>163</td>\n",
       "      <td>1</td>\n",
       "      <td>0.600</td>\n",
       "      <td>2</td>\n",
       "      <td>0</td>\n",
       "      <td>2</td>\n",
       "      <td>1</td>\n",
       "    </tr>\n",
       "  </tbody>\n",
       "</table>\n",
       "</div>"
      ],
      "text/plain": [
       "   age  sex  cp  trestbps  chol  fbs  restecg  thalach  exang  oldpeak  slope  \\\n",
       "0   63    1   3       145   233    1        0      150      0    2.300      0   \n",
       "1   37    1   2       130   250    0        1      187      0    3.500      0   \n",
       "2   41    0   1       130   204    0        0      172      0    1.400      2   \n",
       "3   56    1   1       120   236    0        1      178      0    0.800      2   \n",
       "4   57    0   0       120   354    0        1      163      1    0.600      2   \n",
       "\n",
       "   ca  thal  target  \n",
       "0   0     1       1  \n",
       "1   0     2       1  \n",
       "2   0     2       1  \n",
       "3   0     2       1  \n",
       "4   0     2       1  "
      ]
     },
     "execution_count": 2,
     "metadata": {},
     "output_type": "execute_result"
    }
   ],
   "source": [
    "Heart_Stroke_Prediction = pd.read_csv(\"heart.csv\")\n",
    "df = Heart_Stroke_Prediction.copy()\n",
    "df.head()"
   ]
  },
  {
   "cell_type": "code",
   "execution_count": 3,
   "id": "d50dc34b",
   "metadata": {},
   "outputs": [
    {
     "data": {
      "text/plain": [
       "array([3, 2, 1, 0], dtype=int64)"
      ]
     },
     "execution_count": 3,
     "metadata": {},
     "output_type": "execute_result"
    }
   ],
   "source": [
    "df.cp.unique()"
   ]
  },
  {
   "cell_type": "code",
   "execution_count": 4,
   "id": "18dc8275",
   "metadata": {},
   "outputs": [
    {
     "data": {
      "text/plain": [
       "array([1, 2, 3, 0], dtype=int64)"
      ]
     },
     "execution_count": 4,
     "metadata": {},
     "output_type": "execute_result"
    }
   ],
   "source": [
    "df.thal.unique()"
   ]
  },
  {
   "cell_type": "code",
   "execution_count": 5,
   "id": "bdc40586",
   "metadata": {},
   "outputs": [
    {
     "data": {
      "text/plain": [
       "array([1, 0], dtype=int64)"
      ]
     },
     "execution_count": 5,
     "metadata": {},
     "output_type": "execute_result"
    }
   ],
   "source": [
    "df.target.unique()"
   ]
  },
  {
   "cell_type": "markdown",
   "id": "v64txbyYwhzL",
   "metadata": {
    "id": "v64txbyYwhzL"
   },
   "source": [
    "# EDA"
   ]
  },
  {
   "cell_type": "code",
   "execution_count": 6,
   "id": "41123500",
   "metadata": {},
   "outputs": [
    {
     "data": {
      "text/plain": [
       "(303, 14)"
      ]
     },
     "execution_count": 6,
     "metadata": {},
     "output_type": "execute_result"
    }
   ],
   "source": [
    "df.shape"
   ]
  },
  {
   "cell_type": "code",
   "execution_count": 7,
   "id": "bc7eca15-a6ca-4959-a43b-d20e37bcefb3",
   "metadata": {
    "id": "bc7eca15-a6ca-4959-a43b-d20e37bcefb3"
   },
   "outputs": [
    {
     "name": "stdout",
     "output_type": "stream",
     "text": [
      "<class 'pandas.core.frame.DataFrame'>\n",
      "RangeIndex: 303 entries, 0 to 302\n",
      "Data columns (total 14 columns):\n",
      " #   Column    Non-Null Count  Dtype  \n",
      "---  ------    --------------  -----  \n",
      " 0   age       303 non-null    int64  \n",
      " 1   sex       303 non-null    int64  \n",
      " 2   cp        303 non-null    int64  \n",
      " 3   trestbps  303 non-null    int64  \n",
      " 4   chol      303 non-null    int64  \n",
      " 5   fbs       303 non-null    int64  \n",
      " 6   restecg   303 non-null    int64  \n",
      " 7   thalach   303 non-null    int64  \n",
      " 8   exang     303 non-null    int64  \n",
      " 9   oldpeak   303 non-null    float64\n",
      " 10  slope     303 non-null    int64  \n",
      " 11  ca        303 non-null    int64  \n",
      " 12  thal      303 non-null    int64  \n",
      " 13  target    303 non-null    int64  \n",
      "dtypes: float64(1), int64(13)\n",
      "memory usage: 33.3 KB\n"
     ]
    }
   ],
   "source": [
    "df.info()"
   ]
  },
  {
   "cell_type": "code",
   "execution_count": 8,
   "id": "6f6f22be",
   "metadata": {},
   "outputs": [
    {
     "data": {
      "text/plain": [
       "array([2.3, 3.5, 1.4, 0.8, 0.6, 0.4, 1.3, 0. , 0.5, 1.6, 1.2, 0.2, 1.8,\n",
       "       1. , 2.6, 1.5, 3. , 2.4, 0.1, 1.9, 4.2, 1.1, 2. , 0.7, 0.3, 0.9,\n",
       "       3.6, 3.1, 3.2, 2.5, 2.2, 2.8, 3.4, 6.2, 4. , 5.6, 2.9, 2.1, 3.8,\n",
       "       4.4])"
      ]
     },
     "execution_count": 8,
     "metadata": {},
     "output_type": "execute_result"
    }
   ],
   "source": [
    "df.oldpeak.unique() # i checked float feature for NaN"
   ]
  },
  {
   "cell_type": "code",
   "execution_count": 9,
   "id": "2ec6d4ed",
   "metadata": {},
   "outputs": [
    {
     "data": {
      "text/html": [
       "<div>\n",
       "<style scoped>\n",
       "    .dataframe tbody tr th:only-of-type {\n",
       "        vertical-align: middle;\n",
       "    }\n",
       "\n",
       "    .dataframe tbody tr th {\n",
       "        vertical-align: top;\n",
       "    }\n",
       "\n",
       "    .dataframe thead th {\n",
       "        text-align: right;\n",
       "    }\n",
       "</style>\n",
       "<table border=\"1\" class=\"dataframe\">\n",
       "  <thead>\n",
       "    <tr style=\"text-align: right;\">\n",
       "      <th></th>\n",
       "      <th>age</th>\n",
       "      <th>sex</th>\n",
       "      <th>cp</th>\n",
       "      <th>trestbps</th>\n",
       "      <th>chol</th>\n",
       "      <th>fbs</th>\n",
       "      <th>restecg</th>\n",
       "      <th>thalach</th>\n",
       "      <th>exang</th>\n",
       "      <th>oldpeak</th>\n",
       "      <th>slope</th>\n",
       "      <th>ca</th>\n",
       "      <th>thal</th>\n",
       "      <th>target</th>\n",
       "    </tr>\n",
       "  </thead>\n",
       "  <tbody>\n",
       "    <tr>\n",
       "      <th>count</th>\n",
       "      <td>303.000</td>\n",
       "      <td>303.000</td>\n",
       "      <td>303.000</td>\n",
       "      <td>303.000</td>\n",
       "      <td>303.000</td>\n",
       "      <td>303.000</td>\n",
       "      <td>303.000</td>\n",
       "      <td>303.000</td>\n",
       "      <td>303.000</td>\n",
       "      <td>303.000</td>\n",
       "      <td>303.000</td>\n",
       "      <td>303.000</td>\n",
       "      <td>303.000</td>\n",
       "      <td>303.000</td>\n",
       "    </tr>\n",
       "    <tr>\n",
       "      <th>mean</th>\n",
       "      <td>54.366</td>\n",
       "      <td>0.683</td>\n",
       "      <td>0.967</td>\n",
       "      <td>131.624</td>\n",
       "      <td>246.264</td>\n",
       "      <td>0.149</td>\n",
       "      <td>0.528</td>\n",
       "      <td>149.647</td>\n",
       "      <td>0.327</td>\n",
       "      <td>1.040</td>\n",
       "      <td>1.399</td>\n",
       "      <td>0.729</td>\n",
       "      <td>2.314</td>\n",
       "      <td>0.545</td>\n",
       "    </tr>\n",
       "    <tr>\n",
       "      <th>std</th>\n",
       "      <td>9.082</td>\n",
       "      <td>0.466</td>\n",
       "      <td>1.032</td>\n",
       "      <td>17.538</td>\n",
       "      <td>51.831</td>\n",
       "      <td>0.356</td>\n",
       "      <td>0.526</td>\n",
       "      <td>22.905</td>\n",
       "      <td>0.470</td>\n",
       "      <td>1.161</td>\n",
       "      <td>0.616</td>\n",
       "      <td>1.023</td>\n",
       "      <td>0.612</td>\n",
       "      <td>0.499</td>\n",
       "    </tr>\n",
       "    <tr>\n",
       "      <th>min</th>\n",
       "      <td>29.000</td>\n",
       "      <td>0.000</td>\n",
       "      <td>0.000</td>\n",
       "      <td>94.000</td>\n",
       "      <td>126.000</td>\n",
       "      <td>0.000</td>\n",
       "      <td>0.000</td>\n",
       "      <td>71.000</td>\n",
       "      <td>0.000</td>\n",
       "      <td>0.000</td>\n",
       "      <td>0.000</td>\n",
       "      <td>0.000</td>\n",
       "      <td>0.000</td>\n",
       "      <td>0.000</td>\n",
       "    </tr>\n",
       "    <tr>\n",
       "      <th>25%</th>\n",
       "      <td>47.500</td>\n",
       "      <td>0.000</td>\n",
       "      <td>0.000</td>\n",
       "      <td>120.000</td>\n",
       "      <td>211.000</td>\n",
       "      <td>0.000</td>\n",
       "      <td>0.000</td>\n",
       "      <td>133.500</td>\n",
       "      <td>0.000</td>\n",
       "      <td>0.000</td>\n",
       "      <td>1.000</td>\n",
       "      <td>0.000</td>\n",
       "      <td>2.000</td>\n",
       "      <td>0.000</td>\n",
       "    </tr>\n",
       "    <tr>\n",
       "      <th>50%</th>\n",
       "      <td>55.000</td>\n",
       "      <td>1.000</td>\n",
       "      <td>1.000</td>\n",
       "      <td>130.000</td>\n",
       "      <td>240.000</td>\n",
       "      <td>0.000</td>\n",
       "      <td>1.000</td>\n",
       "      <td>153.000</td>\n",
       "      <td>0.000</td>\n",
       "      <td>0.800</td>\n",
       "      <td>1.000</td>\n",
       "      <td>0.000</td>\n",
       "      <td>2.000</td>\n",
       "      <td>1.000</td>\n",
       "    </tr>\n",
       "    <tr>\n",
       "      <th>75%</th>\n",
       "      <td>61.000</td>\n",
       "      <td>1.000</td>\n",
       "      <td>2.000</td>\n",
       "      <td>140.000</td>\n",
       "      <td>274.500</td>\n",
       "      <td>0.000</td>\n",
       "      <td>1.000</td>\n",
       "      <td>166.000</td>\n",
       "      <td>1.000</td>\n",
       "      <td>1.600</td>\n",
       "      <td>2.000</td>\n",
       "      <td>1.000</td>\n",
       "      <td>3.000</td>\n",
       "      <td>1.000</td>\n",
       "    </tr>\n",
       "    <tr>\n",
       "      <th>max</th>\n",
       "      <td>77.000</td>\n",
       "      <td>1.000</td>\n",
       "      <td>3.000</td>\n",
       "      <td>200.000</td>\n",
       "      <td>564.000</td>\n",
       "      <td>1.000</td>\n",
       "      <td>2.000</td>\n",
       "      <td>202.000</td>\n",
       "      <td>1.000</td>\n",
       "      <td>6.200</td>\n",
       "      <td>2.000</td>\n",
       "      <td>4.000</td>\n",
       "      <td>3.000</td>\n",
       "      <td>1.000</td>\n",
       "    </tr>\n",
       "  </tbody>\n",
       "</table>\n",
       "</div>"
      ],
      "text/plain": [
       "          age     sex      cp  trestbps    chol     fbs  restecg  thalach  \\\n",
       "count 303.000 303.000 303.000   303.000 303.000 303.000  303.000  303.000   \n",
       "mean   54.366   0.683   0.967   131.624 246.264   0.149    0.528  149.647   \n",
       "std     9.082   0.466   1.032    17.538  51.831   0.356    0.526   22.905   \n",
       "min    29.000   0.000   0.000    94.000 126.000   0.000    0.000   71.000   \n",
       "25%    47.500   0.000   0.000   120.000 211.000   0.000    0.000  133.500   \n",
       "50%    55.000   1.000   1.000   130.000 240.000   0.000    1.000  153.000   \n",
       "75%    61.000   1.000   2.000   140.000 274.500   0.000    1.000  166.000   \n",
       "max    77.000   1.000   3.000   200.000 564.000   1.000    2.000  202.000   \n",
       "\n",
       "        exang  oldpeak   slope      ca    thal  target  \n",
       "count 303.000  303.000 303.000 303.000 303.000 303.000  \n",
       "mean    0.327    1.040   1.399   0.729   2.314   0.545  \n",
       "std     0.470    1.161   0.616   1.023   0.612   0.499  \n",
       "min     0.000    0.000   0.000   0.000   0.000   0.000  \n",
       "25%     0.000    0.000   1.000   0.000   2.000   0.000  \n",
       "50%     0.000    0.800   1.000   0.000   2.000   1.000  \n",
       "75%     1.000    1.600   2.000   1.000   3.000   1.000  \n",
       "max     1.000    6.200   2.000   4.000   3.000   1.000  "
      ]
     },
     "execution_count": 9,
     "metadata": {},
     "output_type": "execute_result"
    }
   ],
   "source": [
    "df.describe()"
   ]
  },
  {
   "cell_type": "code",
   "execution_count": 10,
   "id": "d33f8357",
   "metadata": {},
   "outputs": [
    {
     "data": {
      "image/png": "[encoded data removed]",
      "text/plain": [
       "<Figure size 720x432 with 2 Axes>"
      ]
     },
     "metadata": {
      "needs_background": "light"
     },
     "output_type": "display_data"
    }
   ],
   "source": [
    "sns.heatmap(df.corr(), annot=True);"
   ]
  },
  {
   "cell_type": "code",
   "execution_count": 11,
   "id": "174d95c7",
   "metadata": {},
   "outputs": [],
   "source": [
    "def color_red(val):\n",
    "    if val > 0.80 and val < 0.99:\n",
    "        color = 'red'\n",
    "    else:\n",
    "        color = 'black'\n",
    "    return f'color: {color}'"
   ]
  },
  {
   "cell_type": "code",
   "execution_count": 12,
   "id": "0c935216",
   "metadata": {},
   "outputs": [
    {
     "data": {
      "text/html": [
       "<style type=\"text/css\">\n",
       "#T_6177a_row0_col0, #T_6177a_row0_col1, #T_6177a_row0_col2, #T_6177a_row0_col3, #T_6177a_row0_col4, #T_6177a_row0_col5, #T_6177a_row0_col6, #T_6177a_row0_col7, #T_6177a_row0_col8, #T_6177a_row0_col9, #T_6177a_row0_col10, #T_6177a_row0_col11, #T_6177a_row0_col12, #T_6177a_row0_col13, #T_6177a_row1_col0, #T_6177a_row1_col1, #T_6177a_row1_col2, #T_6177a_row1_col3, #T_6177a_row1_col4, #T_6177a_row1_col5, #T_6177a_row1_col6, #T_6177a_row1_col7, #T_6177a_row1_col8, #T_6177a_row1_col9, #T_6177a_row1_col10, #T_6177a_row1_col11, #T_6177a_row1_col12, #T_6177a_row1_col13, #T_6177a_row2_col0, #T_6177a_row2_col1, #T_6177a_row2_col2, #T_6177a_row2_col3, #T_6177a_row2_col4, #T_6177a_row2_col5, #T_6177a_row2_col6, #T_6177a_row2_col7, #T_6177a_row2_col8, #T_6177a_row2_col9, #T_6177a_row2_col10, #T_6177a_row2_col11, #T_6177a_row2_col12, #T_6177a_row2_col13, #T_6177a_row3_col0, #T_6177a_row3_col1, #T_6177a_row3_col2, #T_6177a_row3_col3, #T_6177a_row3_col4, #T_6177a_row3_col5, #T_6177a_row3_col6, #T_6177a_row3_col7, #T_6177a_row3_col8, #T_6177a_row3_col9, #T_6177a_row3_col10, #T_6177a_row3_col11, #T_6177a_row3_col12, #T_6177a_row3_col13, #T_6177a_row4_col0, #T_6177a_row4_col1, #T_6177a_row4_col2, #T_6177a_row4_col3, #T_6177a_row4_col4, #T_6177a_row4_col5, #T_6177a_row4_col6, #T_6177a_row4_col7, #T_6177a_row4_col8, #T_6177a_row4_col9, #T_6177a_row4_col10, #T_6177a_row4_col11, #T_6177a_row4_col12, #T_6177a_row4_col13, #T_6177a_row5_col0, #T_6177a_row5_col1, #T_6177a_row5_col2, #T_6177a_row5_col3, #T_6177a_row5_col4, #T_6177a_row5_col5, #T_6177a_row5_col6, #T_6177a_row5_col7, #T_6177a_row5_col8, #T_6177a_row5_col9, #T_6177a_row5_col10, #T_6177a_row5_col11, #T_6177a_row5_col12, #T_6177a_row5_col13, #T_6177a_row6_col0, #T_6177a_row6_col1, #T_6177a_row6_col2, #T_6177a_row6_col3, #T_6177a_row6_col4, #T_6177a_row6_col5, #T_6177a_row6_col6, #T_6177a_row6_col7, #T_6177a_row6_col8, #T_6177a_row6_col9, #T_6177a_row6_col10, #T_6177a_row6_col11, #T_6177a_row6_col12, #T_6177a_row6_col13, #T_6177a_row7_col0, #T_6177a_row7_col1, #T_6177a_row7_col2, #T_6177a_row7_col3, #T_6177a_row7_col4, #T_6177a_row7_col5, #T_6177a_row7_col6, #T_6177a_row7_col7, #T_6177a_row7_col8, #T_6177a_row7_col9, #T_6177a_row7_col10, #T_6177a_row7_col11, #T_6177a_row7_col12, #T_6177a_row7_col13, #T_6177a_row8_col0, #T_6177a_row8_col1, #T_6177a_row8_col2, #T_6177a_row8_col3, #T_6177a_row8_col4, #T_6177a_row8_col5, #T_6177a_row8_col6, #T_6177a_row8_col7, #T_6177a_row8_col8, #T_6177a_row8_col9, #T_6177a_row8_col10, #T_6177a_row8_col11, #T_6177a_row8_col12, #T_6177a_row8_col13, #T_6177a_row9_col0, #T_6177a_row9_col1, #T_6177a_row9_col2, #T_6177a_row9_col3, #T_6177a_row9_col4, #T_6177a_row9_col5, #T_6177a_row9_col6, #T_6177a_row9_col7, #T_6177a_row9_col8, #T_6177a_row9_col9, #T_6177a_row9_col10, #T_6177a_row9_col11, #T_6177a_row9_col12, #T_6177a_row9_col13, #T_6177a_row10_col0, #T_6177a_row10_col1, #T_6177a_row10_col2, #T_6177a_row10_col3, #T_6177a_row10_col4, #T_6177a_row10_col5, #T_6177a_row10_col6, #T_6177a_row10_col7, #T_6177a_row10_col8, #T_6177a_row10_col9, #T_6177a_row10_col10, #T_6177a_row10_col11, #T_6177a_row10_col12, #T_6177a_row10_col13, #T_6177a_row11_col0, #T_6177a_row11_col1, #T_6177a_row11_col2, #T_6177a_row11_col3, #T_6177a_row11_col4, #T_6177a_row11_col5, #T_6177a_row11_col6, #T_6177a_row11_col7, #T_6177a_row11_col8, #T_6177a_row11_col9, #T_6177a_row11_col10, #T_6177a_row11_col11, #T_6177a_row11_col12, #T_6177a_row11_col13, #T_6177a_row12_col0, #T_6177a_row12_col1, #T_6177a_row12_col2, #T_6177a_row12_col3, #T_6177a_row12_col4, #T_6177a_row12_col5, #T_6177a_row12_col6, #T_6177a_row12_col7, #T_6177a_row12_col8, #T_6177a_row12_col9, #T_6177a_row12_col10, #T_6177a_row12_col11, #T_6177a_row12_col12, #T_6177a_row12_col13, #T_6177a_row13_col0, #T_6177a_row13_col1, #T_6177a_row13_col2, #T_6177a_row13_col3, #T_6177a_row13_col4, #T_6177a_row13_col5, #T_6177a_row13_col6, #T_6177a_row13_col7, #T_6177a_row13_col8, #T_6177a_row13_col9, #T_6177a_row13_col10, #T_6177a_row13_col11, #T_6177a_row13_col12, #T_6177a_row13_col13 {\n",
       "  color: black;\n",
       "}\n",
       "</style>\n",
       "<table id=\"T_6177a\">\n",
       "  <thead>\n",
       "    <tr>\n",
       "      <th class=\"blank level0\" >&nbsp;</th>\n",
       "      <th id=\"T_6177a_level0_col0\" class=\"col_heading level0 col0\" >age</th>\n",
       "      <th id=\"T_6177a_level0_col1\" class=\"col_heading level0 col1\" >sex</th>\n",
       "      <th id=\"T_6177a_level0_col2\" class=\"col_heading level0 col2\" >cp</th>\n",
       "      <th id=\"T_6177a_level0_col3\" class=\"col_heading level0 col3\" >trestbps</th>\n",
       "      <th id=\"T_6177a_level0_col4\" class=\"col_heading level0 col4\" >chol</th>\n",
       "      <th id=\"T_6177a_level0_col5\" class=\"col_heading level0 col5\" >fbs</th>\n",
       "      <th id=\"T_6177a_level0_col6\" class=\"col_heading level0 col6\" >restecg</th>\n",
       "      <th id=\"T_6177a_level0_col7\" class=\"col_heading level0 col7\" >thalach</th>\n",
       "      <th id=\"T_6177a_level0_col8\" class=\"col_heading level0 col8\" >exang</th>\n",
       "      <th id=\"T_6177a_level0_col9\" class=\"col_heading level0 col9\" >oldpeak</th>\n",
       "      <th id=\"T_6177a_level0_col10\" class=\"col_heading level0 col10\" >slope</th>\n",
       "      <th id=\"T_6177a_level0_col11\" class=\"col_heading level0 col11\" >ca</th>\n",
       "      <th id=\"T_6177a_level0_col12\" class=\"col_heading level0 col12\" >thal</th>\n",
       "      <th id=\"T_6177a_level0_col13\" class=\"col_heading level0 col13\" >target</th>\n",
       "    </tr>\n",
       "  </thead>\n",
       "  <tbody>\n",
       "    <tr>\n",
       "      <th id=\"T_6177a_level0_row0\" class=\"row_heading level0 row0\" >age</th>\n",
       "      <td id=\"T_6177a_row0_col0\" class=\"data row0 col0\" >1.000000</td>\n",
       "      <td id=\"T_6177a_row0_col1\" class=\"data row0 col1\" >-0.098447</td>\n",
       "      <td id=\"T_6177a_row0_col2\" class=\"data row0 col2\" >-0.068653</td>\n",
       "      <td id=\"T_6177a_row0_col3\" class=\"data row0 col3\" >0.279351</td>\n",
       "      <td id=\"T_6177a_row0_col4\" class=\"data row0 col4\" >0.213678</td>\n",
       "      <td id=\"T_6177a_row0_col5\" class=\"data row0 col5\" >0.121308</td>\n",
       "      <td id=\"T_6177a_row0_col6\" class=\"data row0 col6\" >-0.116211</td>\n",
       "      <td id=\"T_6177a_row0_col7\" class=\"data row0 col7\" >-0.398522</td>\n",
       "      <td id=\"T_6177a_row0_col8\" class=\"data row0 col8\" >0.096801</td>\n",
       "      <td id=\"T_6177a_row0_col9\" class=\"data row0 col9\" >0.210013</td>\n",
       "      <td id=\"T_6177a_row0_col10\" class=\"data row0 col10\" >-0.168814</td>\n",
       "      <td id=\"T_6177a_row0_col11\" class=\"data row0 col11\" >0.276326</td>\n",
       "      <td id=\"T_6177a_row0_col12\" class=\"data row0 col12\" >0.068001</td>\n",
       "      <td id=\"T_6177a_row0_col13\" class=\"data row0 col13\" >-0.225439</td>\n",
       "    </tr>\n",
       "    <tr>\n",
       "      <th id=\"T_6177a_level0_row1\" class=\"row_heading level0 row1\" >sex</th>\n",
       "      <td id=\"T_6177a_row1_col0\" class=\"data row1 col0\" >-0.098447</td>\n",
       "      <td id=\"T_6177a_row1_col1\" class=\"data row1 col1\" >1.000000</td>\n",
       "      <td id=\"T_6177a_row1_col2\" class=\"data row1 col2\" >-0.049353</td>\n",
       "      <td id=\"T_6177a_row1_col3\" class=\"data row1 col3\" >-0.056769</td>\n",
       "      <td id=\"T_6177a_row1_col4\" class=\"data row1 col4\" >-0.197912</td>\n",
       "      <td id=\"T_6177a_row1_col5\" class=\"data row1 col5\" >0.045032</td>\n",
       "      <td id=\"T_6177a_row1_col6\" class=\"data row1 col6\" >-0.058196</td>\n",
       "      <td id=\"T_6177a_row1_col7\" class=\"data row1 col7\" >-0.044020</td>\n",
       "      <td id=\"T_6177a_row1_col8\" class=\"data row1 col8\" >0.141664</td>\n",
       "      <td id=\"T_6177a_row1_col9\" class=\"data row1 col9\" >0.096093</td>\n",
       "      <td id=\"T_6177a_row1_col10\" class=\"data row1 col10\" >-0.030711</td>\n",
       "      <td id=\"T_6177a_row1_col11\" class=\"data row1 col11\" >0.118261</td>\n",
       "      <td id=\"T_6177a_row1_col12\" class=\"data row1 col12\" >0.210041</td>\n",
       "      <td id=\"T_6177a_row1_col13\" class=\"data row1 col13\" >-0.280937</td>\n",
       "    </tr>\n",
       "    <tr>\n",
       "      <th id=\"T_6177a_level0_row2\" class=\"row_heading level0 row2\" >cp</th>\n",
       "      <td id=\"T_6177a_row2_col0\" class=\"data row2 col0\" >-0.068653</td>\n",
       "      <td id=\"T_6177a_row2_col1\" class=\"data row2 col1\" >-0.049353</td>\n",
       "      <td id=\"T_6177a_row2_col2\" class=\"data row2 col2\" >1.000000</td>\n",
       "      <td id=\"T_6177a_row2_col3\" class=\"data row2 col3\" >0.047608</td>\n",
       "      <td id=\"T_6177a_row2_col4\" class=\"data row2 col4\" >-0.076904</td>\n",
       "      <td id=\"T_6177a_row2_col5\" class=\"data row2 col5\" >0.094444</td>\n",
       "      <td id=\"T_6177a_row2_col6\" class=\"data row2 col6\" >0.044421</td>\n",
       "      <td id=\"T_6177a_row2_col7\" class=\"data row2 col7\" >0.295762</td>\n",
       "      <td id=\"T_6177a_row2_col8\" class=\"data row2 col8\" >-0.394280</td>\n",
       "      <td id=\"T_6177a_row2_col9\" class=\"data row2 col9\" >-0.149230</td>\n",
       "      <td id=\"T_6177a_row2_col10\" class=\"data row2 col10\" >0.119717</td>\n",
       "      <td id=\"T_6177a_row2_col11\" class=\"data row2 col11\" >-0.181053</td>\n",
       "      <td id=\"T_6177a_row2_col12\" class=\"data row2 col12\" >-0.161736</td>\n",
       "      <td id=\"T_6177a_row2_col13\" class=\"data row2 col13\" >0.433798</td>\n",
       "    </tr>\n",
       "    <tr>\n",
       "      <th id=\"T_6177a_level0_row3\" class=\"row_heading level0 row3\" >trestbps</th>\n",
       "      <td id=\"T_6177a_row3_col0\" class=\"data row3 col0\" >0.279351</td>\n",
       "      <td id=\"T_6177a_row3_col1\" class=\"data row3 col1\" >-0.056769</td>\n",
       "      <td id=\"T_6177a_row3_col2\" class=\"data row3 col2\" >0.047608</td>\n",
       "      <td id=\"T_6177a_row3_col3\" class=\"data row3 col3\" >1.000000</td>\n",
       "      <td id=\"T_6177a_row3_col4\" class=\"data row3 col4\" >0.123174</td>\n",
       "      <td id=\"T_6177a_row3_col5\" class=\"data row3 col5\" >0.177531</td>\n",
       "      <td id=\"T_6177a_row3_col6\" class=\"data row3 col6\" >-0.114103</td>\n",
       "      <td id=\"T_6177a_row3_col7\" class=\"data row3 col7\" >-0.046698</td>\n",
       "      <td id=\"T_6177a_row3_col8\" class=\"data row3 col8\" >0.067616</td>\n",
       "      <td id=\"T_6177a_row3_col9\" class=\"data row3 col9\" >0.193216</td>\n",
       "      <td id=\"T_6177a_row3_col10\" class=\"data row3 col10\" >-0.121475</td>\n",
       "      <td id=\"T_6177a_row3_col11\" class=\"data row3 col11\" >0.101389</td>\n",
       "      <td id=\"T_6177a_row3_col12\" class=\"data row3 col12\" >0.062210</td>\n",
       "      <td id=\"T_6177a_row3_col13\" class=\"data row3 col13\" >-0.144931</td>\n",
       "    </tr>\n",
       "    <tr>\n",
       "      <th id=\"T_6177a_level0_row4\" class=\"row_heading level0 row4\" >chol</th>\n",
       "      <td id=\"T_6177a_row4_col0\" class=\"data row4 col0\" >0.213678</td>\n",
       "      <td id=\"T_6177a_row4_col1\" class=\"data row4 col1\" >-0.197912</td>\n",
       "      <td id=\"T_6177a_row4_col2\" class=\"data row4 col2\" >-0.076904</td>\n",
       "      <td id=\"T_6177a_row4_col3\" class=\"data row4 col3\" >0.123174</td>\n",
       "      <td id=\"T_6177a_row4_col4\" class=\"data row4 col4\" >1.000000</td>\n",
       "      <td id=\"T_6177a_row4_col5\" class=\"data row4 col5\" >0.013294</td>\n",
       "      <td id=\"T_6177a_row4_col6\" class=\"data row4 col6\" >-0.151040</td>\n",
       "      <td id=\"T_6177a_row4_col7\" class=\"data row4 col7\" >-0.009940</td>\n",
       "      <td id=\"T_6177a_row4_col8\" class=\"data row4 col8\" >0.067023</td>\n",
       "      <td id=\"T_6177a_row4_col9\" class=\"data row4 col9\" >0.053952</td>\n",
       "      <td id=\"T_6177a_row4_col10\" class=\"data row4 col10\" >-0.004038</td>\n",
       "      <td id=\"T_6177a_row4_col11\" class=\"data row4 col11\" >0.070511</td>\n",
       "      <td id=\"T_6177a_row4_col12\" class=\"data row4 col12\" >0.098803</td>\n",
       "      <td id=\"T_6177a_row4_col13\" class=\"data row4 col13\" >-0.085239</td>\n",
       "    </tr>\n",
       "    <tr>\n",
       "      <th id=\"T_6177a_level0_row5\" class=\"row_heading level0 row5\" >fbs</th>\n",
       "      <td id=\"T_6177a_row5_col0\" class=\"data row5 col0\" >0.121308</td>\n",
       "      <td id=\"T_6177a_row5_col1\" class=\"data row5 col1\" >0.045032</td>\n",
       "      <td id=\"T_6177a_row5_col2\" class=\"data row5 col2\" >0.094444</td>\n",
       "      <td id=\"T_6177a_row5_col3\" class=\"data row5 col3\" >0.177531</td>\n",
       "      <td id=\"T_6177a_row5_col4\" class=\"data row5 col4\" >0.013294</td>\n",
       "      <td id=\"T_6177a_row5_col5\" class=\"data row5 col5\" >1.000000</td>\n",
       "      <td id=\"T_6177a_row5_col6\" class=\"data row5 col6\" >-0.084189</td>\n",
       "      <td id=\"T_6177a_row5_col7\" class=\"data row5 col7\" >-0.008567</td>\n",
       "      <td id=\"T_6177a_row5_col8\" class=\"data row5 col8\" >0.025665</td>\n",
       "      <td id=\"T_6177a_row5_col9\" class=\"data row5 col9\" >0.005747</td>\n",
       "      <td id=\"T_6177a_row5_col10\" class=\"data row5 col10\" >-0.059894</td>\n",
       "      <td id=\"T_6177a_row5_col11\" class=\"data row5 col11\" >0.137979</td>\n",
       "      <td id=\"T_6177a_row5_col12\" class=\"data row5 col12\" >-0.032019</td>\n",
       "      <td id=\"T_6177a_row5_col13\" class=\"data row5 col13\" >-0.028046</td>\n",
       "    </tr>\n",
       "    <tr>\n",
       "      <th id=\"T_6177a_level0_row6\" class=\"row_heading level0 row6\" >restecg</th>\n",
       "      <td id=\"T_6177a_row6_col0\" class=\"data row6 col0\" >-0.116211</td>\n",
       "      <td id=\"T_6177a_row6_col1\" class=\"data row6 col1\" >-0.058196</td>\n",
       "      <td id=\"T_6177a_row6_col2\" class=\"data row6 col2\" >0.044421</td>\n",
       "      <td id=\"T_6177a_row6_col3\" class=\"data row6 col3\" >-0.114103</td>\n",
       "      <td id=\"T_6177a_row6_col4\" class=\"data row6 col4\" >-0.151040</td>\n",
       "      <td id=\"T_6177a_row6_col5\" class=\"data row6 col5\" >-0.084189</td>\n",
       "      <td id=\"T_6177a_row6_col6\" class=\"data row6 col6\" >1.000000</td>\n",
       "      <td id=\"T_6177a_row6_col7\" class=\"data row6 col7\" >0.044123</td>\n",
       "      <td id=\"T_6177a_row6_col8\" class=\"data row6 col8\" >-0.070733</td>\n",
       "      <td id=\"T_6177a_row6_col9\" class=\"data row6 col9\" >-0.058770</td>\n",
       "      <td id=\"T_6177a_row6_col10\" class=\"data row6 col10\" >0.093045</td>\n",
       "      <td id=\"T_6177a_row6_col11\" class=\"data row6 col11\" >-0.072042</td>\n",
       "      <td id=\"T_6177a_row6_col12\" class=\"data row6 col12\" >-0.011981</td>\n",
       "      <td id=\"T_6177a_row6_col13\" class=\"data row6 col13\" >0.137230</td>\n",
       "    </tr>\n",
       "    <tr>\n",
       "      <th id=\"T_6177a_level0_row7\" class=\"row_heading level0 row7\" >thalach</th>\n",
       "      <td id=\"T_6177a_row7_col0\" class=\"data row7 col0\" >-0.398522</td>\n",
       "      <td id=\"T_6177a_row7_col1\" class=\"data row7 col1\" >-0.044020</td>\n",
       "      <td id=\"T_6177a_row7_col2\" class=\"data row7 col2\" >0.295762</td>\n",
       "      <td id=\"T_6177a_row7_col3\" class=\"data row7 col3\" >-0.046698</td>\n",
       "      <td id=\"T_6177a_row7_col4\" class=\"data row7 col4\" >-0.009940</td>\n",
       "      <td id=\"T_6177a_row7_col5\" class=\"data row7 col5\" >-0.008567</td>\n",
       "      <td id=\"T_6177a_row7_col6\" class=\"data row7 col6\" >0.044123</td>\n",
       "      <td id=\"T_6177a_row7_col7\" class=\"data row7 col7\" >1.000000</td>\n",
       "      <td id=\"T_6177a_row7_col8\" class=\"data row7 col8\" >-0.378812</td>\n",
       "      <td id=\"T_6177a_row7_col9\" class=\"data row7 col9\" >-0.344187</td>\n",
       "      <td id=\"T_6177a_row7_col10\" class=\"data row7 col10\" >0.386784</td>\n",
       "      <td id=\"T_6177a_row7_col11\" class=\"data row7 col11\" >-0.213177</td>\n",
       "      <td id=\"T_6177a_row7_col12\" class=\"data row7 col12\" >-0.096439</td>\n",
       "      <td id=\"T_6177a_row7_col13\" class=\"data row7 col13\" >0.421741</td>\n",
       "    </tr>\n",
       "    <tr>\n",
       "      <th id=\"T_6177a_level0_row8\" class=\"row_heading level0 row8\" >exang</th>\n",
       "      <td id=\"T_6177a_row8_col0\" class=\"data row8 col0\" >0.096801</td>\n",
       "      <td id=\"T_6177a_row8_col1\" class=\"data row8 col1\" >0.141664</td>\n",
       "      <td id=\"T_6177a_row8_col2\" class=\"data row8 col2\" >-0.394280</td>\n",
       "      <td id=\"T_6177a_row8_col3\" class=\"data row8 col3\" >0.067616</td>\n",
       "      <td id=\"T_6177a_row8_col4\" class=\"data row8 col4\" >0.067023</td>\n",
       "      <td id=\"T_6177a_row8_col5\" class=\"data row8 col5\" >0.025665</td>\n",
       "      <td id=\"T_6177a_row8_col6\" class=\"data row8 col6\" >-0.070733</td>\n",
       "      <td id=\"T_6177a_row8_col7\" class=\"data row8 col7\" >-0.378812</td>\n",
       "      <td id=\"T_6177a_row8_col8\" class=\"data row8 col8\" >1.000000</td>\n",
       "      <td id=\"T_6177a_row8_col9\" class=\"data row8 col9\" >0.288223</td>\n",
       "      <td id=\"T_6177a_row8_col10\" class=\"data row8 col10\" >-0.257748</td>\n",
       "      <td id=\"T_6177a_row8_col11\" class=\"data row8 col11\" >0.115739</td>\n",
       "      <td id=\"T_6177a_row8_col12\" class=\"data row8 col12\" >0.206754</td>\n",
       "      <td id=\"T_6177a_row8_col13\" class=\"data row8 col13\" >-0.436757</td>\n",
       "    </tr>\n",
       "    <tr>\n",
       "      <th id=\"T_6177a_level0_row9\" class=\"row_heading level0 row9\" >oldpeak</th>\n",
       "      <td id=\"T_6177a_row9_col0\" class=\"data row9 col0\" >0.210013</td>\n",
       "      <td id=\"T_6177a_row9_col1\" class=\"data row9 col1\" >0.096093</td>\n",
       "      <td id=\"T_6177a_row9_col2\" class=\"data row9 col2\" >-0.149230</td>\n",
       "      <td id=\"T_6177a_row9_col3\" class=\"data row9 col3\" >0.193216</td>\n",
       "      <td id=\"T_6177a_row9_col4\" class=\"data row9 col4\" >0.053952</td>\n",
       "      <td id=\"T_6177a_row9_col5\" class=\"data row9 col5\" >0.005747</td>\n",
       "      <td id=\"T_6177a_row9_col6\" class=\"data row9 col6\" >-0.058770</td>\n",
       "      <td id=\"T_6177a_row9_col7\" class=\"data row9 col7\" >-0.344187</td>\n",
       "      <td id=\"T_6177a_row9_col8\" class=\"data row9 col8\" >0.288223</td>\n",
       "      <td id=\"T_6177a_row9_col9\" class=\"data row9 col9\" >1.000000</td>\n",
       "      <td id=\"T_6177a_row9_col10\" class=\"data row9 col10\" >-0.577537</td>\n",
       "      <td id=\"T_6177a_row9_col11\" class=\"data row9 col11\" >0.222682</td>\n",
       "      <td id=\"T_6177a_row9_col12\" class=\"data row9 col12\" >0.210244</td>\n",
       "      <td id=\"T_6177a_row9_col13\" class=\"data row9 col13\" >-0.430696</td>\n",
       "    </tr>\n",
       "    <tr>\n",
       "      <th id=\"T_6177a_level0_row10\" class=\"row_heading level0 row10\" >slope</th>\n",
       "      <td id=\"T_6177a_row10_col0\" class=\"data row10 col0\" >-0.168814</td>\n",
       "      <td id=\"T_6177a_row10_col1\" class=\"data row10 col1\" >-0.030711</td>\n",
       "      <td id=\"T_6177a_row10_col2\" class=\"data row10 col2\" >0.119717</td>\n",
       "      <td id=\"T_6177a_row10_col3\" class=\"data row10 col3\" >-0.121475</td>\n",
       "      <td id=\"T_6177a_row10_col4\" class=\"data row10 col4\" >-0.004038</td>\n",
       "      <td id=\"T_6177a_row10_col5\" class=\"data row10 col5\" >-0.059894</td>\n",
       "      <td id=\"T_6177a_row10_col6\" class=\"data row10 col6\" >0.093045</td>\n",
       "      <td id=\"T_6177a_row10_col7\" class=\"data row10 col7\" >0.386784</td>\n",
       "      <td id=\"T_6177a_row10_col8\" class=\"data row10 col8\" >-0.257748</td>\n",
       "      <td id=\"T_6177a_row10_col9\" class=\"data row10 col9\" >-0.577537</td>\n",
       "      <td id=\"T_6177a_row10_col10\" class=\"data row10 col10\" >1.000000</td>\n",
       "      <td id=\"T_6177a_row10_col11\" class=\"data row10 col11\" >-0.080155</td>\n",
       "      <td id=\"T_6177a_row10_col12\" class=\"data row10 col12\" >-0.104764</td>\n",
       "      <td id=\"T_6177a_row10_col13\" class=\"data row10 col13\" >0.345877</td>\n",
       "    </tr>\n",
       "    <tr>\n",
       "      <th id=\"T_6177a_level0_row11\" class=\"row_heading level0 row11\" >ca</th>\n",
       "      <td id=\"T_6177a_row11_col0\" class=\"data row11 col0\" >0.276326</td>\n",
       "      <td id=\"T_6177a_row11_col1\" class=\"data row11 col1\" >0.118261</td>\n",
       "      <td id=\"T_6177a_row11_col2\" class=\"data row11 col2\" >-0.181053</td>\n",
       "      <td id=\"T_6177a_row11_col3\" class=\"data row11 col3\" >0.101389</td>\n",
       "      <td id=\"T_6177a_row11_col4\" class=\"data row11 col4\" >0.070511</td>\n",
       "      <td id=\"T_6177a_row11_col5\" class=\"data row11 col5\" >0.137979</td>\n",
       "      <td id=\"T_6177a_row11_col6\" class=\"data row11 col6\" >-0.072042</td>\n",
       "      <td id=\"T_6177a_row11_col7\" class=\"data row11 col7\" >-0.213177</td>\n",
       "      <td id=\"T_6177a_row11_col8\" class=\"data row11 col8\" >0.115739</td>\n",
       "      <td id=\"T_6177a_row11_col9\" class=\"data row11 col9\" >0.222682</td>\n",
       "      <td id=\"T_6177a_row11_col10\" class=\"data row11 col10\" >-0.080155</td>\n",
       "      <td id=\"T_6177a_row11_col11\" class=\"data row11 col11\" >1.000000</td>\n",
       "      <td id=\"T_6177a_row11_col12\" class=\"data row11 col12\" >0.151832</td>\n",
       "      <td id=\"T_6177a_row11_col13\" class=\"data row11 col13\" >-0.391724</td>\n",
       "    </tr>\n",
       "    <tr>\n",
       "      <th id=\"T_6177a_level0_row12\" class=\"row_heading level0 row12\" >thal</th>\n",
       "      <td id=\"T_6177a_row12_col0\" class=\"data row12 col0\" >0.068001</td>\n",
       "      <td id=\"T_6177a_row12_col1\" class=\"data row12 col1\" >0.210041</td>\n",
       "      <td id=\"T_6177a_row12_col2\" class=\"data row12 col2\" >-0.161736</td>\n",
       "      <td id=\"T_6177a_row12_col3\" class=\"data row12 col3\" >0.062210</td>\n",
       "      <td id=\"T_6177a_row12_col4\" class=\"data row12 col4\" >0.098803</td>\n",
       "      <td id=\"T_6177a_row12_col5\" class=\"data row12 col5\" >-0.032019</td>\n",
       "      <td id=\"T_6177a_row12_col6\" class=\"data row12 col6\" >-0.011981</td>\n",
       "      <td id=\"T_6177a_row12_col7\" class=\"data row12 col7\" >-0.096439</td>\n",
       "      <td id=\"T_6177a_row12_col8\" class=\"data row12 col8\" >0.206754</td>\n",
       "      <td id=\"T_6177a_row12_col9\" class=\"data row12 col9\" >0.210244</td>\n",
       "      <td id=\"T_6177a_row12_col10\" class=\"data row12 col10\" >-0.104764</td>\n",
       "      <td id=\"T_6177a_row12_col11\" class=\"data row12 col11\" >0.151832</td>\n",
       "      <td id=\"T_6177a_row12_col12\" class=\"data row12 col12\" >1.000000</td>\n",
       "      <td id=\"T_6177a_row12_col13\" class=\"data row12 col13\" >-0.344029</td>\n",
       "    </tr>\n",
       "    <tr>\n",
       "      <th id=\"T_6177a_level0_row13\" class=\"row_heading level0 row13\" >target</th>\n",
       "      <td id=\"T_6177a_row13_col0\" class=\"data row13 col0\" >-0.225439</td>\n",
       "      <td id=\"T_6177a_row13_col1\" class=\"data row13 col1\" >-0.280937</td>\n",
       "      <td id=\"T_6177a_row13_col2\" class=\"data row13 col2\" >0.433798</td>\n",
       "      <td id=\"T_6177a_row13_col3\" class=\"data row13 col3\" >-0.144931</td>\n",
       "      <td id=\"T_6177a_row13_col4\" class=\"data row13 col4\" >-0.085239</td>\n",
       "      <td id=\"T_6177a_row13_col5\" class=\"data row13 col5\" >-0.028046</td>\n",
       "      <td id=\"T_6177a_row13_col6\" class=\"data row13 col6\" >0.137230</td>\n",
       "      <td id=\"T_6177a_row13_col7\" class=\"data row13 col7\" >0.421741</td>\n",
       "      <td id=\"T_6177a_row13_col8\" class=\"data row13 col8\" >-0.436757</td>\n",
       "      <td id=\"T_6177a_row13_col9\" class=\"data row13 col9\" >-0.430696</td>\n",
       "      <td id=\"T_6177a_row13_col10\" class=\"data row13 col10\" >0.345877</td>\n",
       "      <td id=\"T_6177a_row13_col11\" class=\"data row13 col11\" >-0.391724</td>\n",
       "      <td id=\"T_6177a_row13_col12\" class=\"data row13 col12\" >-0.344029</td>\n",
       "      <td id=\"T_6177a_row13_col13\" class=\"data row13 col13\" >1.000000</td>\n",
       "    </tr>\n",
       "  </tbody>\n",
       "</table>\n"
      ],
      "text/plain": [
       "<pandas.io.formats.style.Styler at 0x1925293ddf0>"
      ]
     },
     "execution_count": 12,
     "metadata": {},
     "output_type": "execute_result"
    }
   ],
   "source": [
    "df.corr().style.applymap(color_red) # there is not a Multicolineraty"
   ]
  },
  {
   "cell_type": "code",
   "execution_count": 13,
   "id": "4e573d95",
   "metadata": {},
   "outputs": [],
   "source": [
    "def color_red(val):\n",
    "    if val < -0.4 :\n",
    "        color = 'red'\n",
    "    elif val > 0.4 and val < 1:\n",
    "        color = 'red'\n",
    "    else:\n",
    "        color = 'black'\n",
    "    return f'color: {color}'"
   ]
  },
  {
   "cell_type": "code",
   "execution_count": 14,
   "id": "41dcc18f",
   "metadata": {},
   "outputs": [
    {
     "data": {
      "text/html": [
       "<style type=\"text/css\">\n",
       "#T_012c8_row0_col0, #T_012c8_row0_col1, #T_012c8_row0_col2, #T_012c8_row0_col3, #T_012c8_row0_col4, #T_012c8_row0_col5, #T_012c8_row0_col6, #T_012c8_row0_col7, #T_012c8_row0_col8, #T_012c8_row0_col9, #T_012c8_row0_col10, #T_012c8_row0_col11, #T_012c8_row0_col12, #T_012c8_row0_col13, #T_012c8_row1_col0, #T_012c8_row1_col1, #T_012c8_row1_col2, #T_012c8_row1_col3, #T_012c8_row1_col4, #T_012c8_row1_col5, #T_012c8_row1_col6, #T_012c8_row1_col7, #T_012c8_row1_col8, #T_012c8_row1_col9, #T_012c8_row1_col10, #T_012c8_row1_col11, #T_012c8_row1_col12, #T_012c8_row1_col13, #T_012c8_row2_col0, #T_012c8_row2_col1, #T_012c8_row2_col2, #T_012c8_row2_col3, #T_012c8_row2_col4, #T_012c8_row2_col5, #T_012c8_row2_col6, #T_012c8_row2_col7, #T_012c8_row2_col8, #T_012c8_row2_col9, #T_012c8_row2_col10, #T_012c8_row2_col11, #T_012c8_row2_col12, #T_012c8_row3_col0, #T_012c8_row3_col1, #T_012c8_row3_col2, #T_012c8_row3_col3, #T_012c8_row3_col4, #T_012c8_row3_col5, #T_012c8_row3_col6, #T_012c8_row3_col7, #T_012c8_row3_col8, #T_012c8_row3_col9, #T_012c8_row3_col10, #T_012c8_row3_col11, #T_012c8_row3_col12, #T_012c8_row3_col13, #T_012c8_row4_col0, #T_012c8_row4_col1, #T_012c8_row4_col2, #T_012c8_row4_col3, #T_012c8_row4_col4, #T_012c8_row4_col5, #T_012c8_row4_col6, #T_012c8_row4_col7, #T_012c8_row4_col8, #T_012c8_row4_col9, #T_012c8_row4_col10, #T_012c8_row4_col11, #T_012c8_row4_col12, #T_012c8_row4_col13, #T_012c8_row5_col0, #T_012c8_row5_col1, #T_012c8_row5_col2, #T_012c8_row5_col3, #T_012c8_row5_col4, #T_012c8_row5_col5, #T_012c8_row5_col6, #T_012c8_row5_col7, #T_012c8_row5_col8, #T_012c8_row5_col9, #T_012c8_row5_col10, #T_012c8_row5_col11, #T_012c8_row5_col12, #T_012c8_row5_col13, #T_012c8_row6_col0, #T_012c8_row6_col1, #T_012c8_row6_col2, #T_012c8_row6_col3, #T_012c8_row6_col4, #T_012c8_row6_col5, #T_012c8_row6_col6, #T_012c8_row6_col7, #T_012c8_row6_col8, #T_012c8_row6_col9, #T_012c8_row6_col10, #T_012c8_row6_col11, #T_012c8_row6_col12, #T_012c8_row6_col13, #T_012c8_row7_col0, #T_012c8_row7_col1, #T_012c8_row7_col2, #T_012c8_row7_col3, #T_012c8_row7_col4, #T_012c8_row7_col5, #T_012c8_row7_col6, #T_012c8_row7_col7, #T_012c8_row7_col8, #T_012c8_row7_col9, #T_012c8_row7_col10, #T_012c8_row7_col11, #T_012c8_row7_col12, #T_012c8_row8_col0, #T_012c8_row8_col1, #T_012c8_row8_col2, #T_012c8_row8_col3, #T_012c8_row8_col4, #T_012c8_row8_col5, #T_012c8_row8_col6, #T_012c8_row8_col7, #T_012c8_row8_col8, #T_012c8_row8_col9, #T_012c8_row8_col10, #T_012c8_row8_col11, #T_012c8_row8_col12, #T_012c8_row9_col0, #T_012c8_row9_col1, #T_012c8_row9_col2, #T_012c8_row9_col3, #T_012c8_row9_col4, #T_012c8_row9_col5, #T_012c8_row9_col6, #T_012c8_row9_col7, #T_012c8_row9_col8, #T_012c8_row9_col9, #T_012c8_row9_col11, #T_012c8_row9_col12, #T_012c8_row10_col0, #T_012c8_row10_col1, #T_012c8_row10_col2, #T_012c8_row10_col3, #T_012c8_row10_col4, #T_012c8_row10_col5, #T_012c8_row10_col6, #T_012c8_row10_col7, #T_012c8_row10_col8, #T_012c8_row10_col10, #T_012c8_row10_col11, #T_012c8_row10_col12, #T_012c8_row10_col13, #T_012c8_row11_col0, #T_012c8_row11_col1, #T_012c8_row11_col2, #T_012c8_row11_col3, #T_012c8_row11_col4, #T_012c8_row11_col5, #T_012c8_row11_col6, #T_012c8_row11_col7, #T_012c8_row11_col8, #T_012c8_row11_col9, #T_012c8_row11_col10, #T_012c8_row11_col11, #T_012c8_row11_col12, #T_012c8_row11_col13, #T_012c8_row12_col0, #T_012c8_row12_col1, #T_012c8_row12_col2, #T_012c8_row12_col3, #T_012c8_row12_col4, #T_012c8_row12_col5, #T_012c8_row12_col6, #T_012c8_row12_col7, #T_012c8_row12_col8, #T_012c8_row12_col9, #T_012c8_row12_col10, #T_012c8_row12_col11, #T_012c8_row12_col12, #T_012c8_row12_col13, #T_012c8_row13_col0, #T_012c8_row13_col1, #T_012c8_row13_col3, #T_012c8_row13_col4, #T_012c8_row13_col5, #T_012c8_row13_col6, #T_012c8_row13_col10, #T_012c8_row13_col11, #T_012c8_row13_col12, #T_012c8_row13_col13 {\n",
       "  color: black;\n",
       "}\n",
       "#T_012c8_row2_col13, #T_012c8_row7_col13, #T_012c8_row8_col13, #T_012c8_row9_col10, #T_012c8_row9_col13, #T_012c8_row10_col9, #T_012c8_row13_col2, #T_012c8_row13_col7, #T_012c8_row13_col8, #T_012c8_row13_col9 {\n",
       "  color: red;\n",
       "}\n",
       "</style>\n",
       "<table id=\"T_012c8\">\n",
       "  <thead>\n",
       "    <tr>\n",
       "      <th class=\"blank level0\" >&nbsp;</th>\n",
       "      <th id=\"T_012c8_level0_col0\" class=\"col_heading level0 col0\" >age</th>\n",
       "      <th id=\"T_012c8_level0_col1\" class=\"col_heading level0 col1\" >sex</th>\n",
       "      <th id=\"T_012c8_level0_col2\" class=\"col_heading level0 col2\" >cp</th>\n",
       "      <th id=\"T_012c8_level0_col3\" class=\"col_heading level0 col3\" >trestbps</th>\n",
       "      <th id=\"T_012c8_level0_col4\" class=\"col_heading level0 col4\" >chol</th>\n",
       "      <th id=\"T_012c8_level0_col5\" class=\"col_heading level0 col5\" >fbs</th>\n",
       "      <th id=\"T_012c8_level0_col6\" class=\"col_heading level0 col6\" >restecg</th>\n",
       "      <th id=\"T_012c8_level0_col7\" class=\"col_heading level0 col7\" >thalach</th>\n",
       "      <th id=\"T_012c8_level0_col8\" class=\"col_heading level0 col8\" >exang</th>\n",
       "      <th id=\"T_012c8_level0_col9\" class=\"col_heading level0 col9\" >oldpeak</th>\n",
       "      <th id=\"T_012c8_level0_col10\" class=\"col_heading level0 col10\" >slope</th>\n",
       "      <th id=\"T_012c8_level0_col11\" class=\"col_heading level0 col11\" >ca</th>\n",
       "      <th id=\"T_012c8_level0_col12\" class=\"col_heading level0 col12\" >thal</th>\n",
       "      <th id=\"T_012c8_level0_col13\" class=\"col_heading level0 col13\" >target</th>\n",
       "    </tr>\n",
       "  </thead>\n",
       "  <tbody>\n",
       "    <tr>\n",
       "      <th id=\"T_012c8_level0_row0\" class=\"row_heading level0 row0\" >age</th>\n",
       "      <td id=\"T_012c8_row0_col0\" class=\"data row0 col0\" >1.000000</td>\n",
       "      <td id=\"T_012c8_row0_col1\" class=\"data row0 col1\" >-0.098447</td>\n",
       "      <td id=\"T_012c8_row0_col2\" class=\"data row0 col2\" >-0.068653</td>\n",
       "      <td id=\"T_012c8_row0_col3\" class=\"data row0 col3\" >0.279351</td>\n",
       "      <td id=\"T_012c8_row0_col4\" class=\"data row0 col4\" >0.213678</td>\n",
       "      <td id=\"T_012c8_row0_col5\" class=\"data row0 col5\" >0.121308</td>\n",
       "      <td id=\"T_012c8_row0_col6\" class=\"data row0 col6\" >-0.116211</td>\n",
       "      <td id=\"T_012c8_row0_col7\" class=\"data row0 col7\" >-0.398522</td>\n",
       "      <td id=\"T_012c8_row0_col8\" class=\"data row0 col8\" >0.096801</td>\n",
       "      <td id=\"T_012c8_row0_col9\" class=\"data row0 col9\" >0.210013</td>\n",
       "      <td id=\"T_012c8_row0_col10\" class=\"data row0 col10\" >-0.168814</td>\n",
       "      <td id=\"T_012c8_row0_col11\" class=\"data row0 col11\" >0.276326</td>\n",
       "      <td id=\"T_012c8_row0_col12\" class=\"data row0 col12\" >0.068001</td>\n",
       "      <td id=\"T_012c8_row0_col13\" class=\"data row0 col13\" >-0.225439</td>\n",
       "    </tr>\n",
       "    <tr>\n",
       "      <th id=\"T_012c8_level0_row1\" class=\"row_heading level0 row1\" >sex</th>\n",
       "      <td id=\"T_012c8_row1_col0\" class=\"data row1 col0\" >-0.098447</td>\n",
       "      <td id=\"T_012c8_row1_col1\" class=\"data row1 col1\" >1.000000</td>\n",
       "      <td id=\"T_012c8_row1_col2\" class=\"data row1 col2\" >-0.049353</td>\n",
       "      <td id=\"T_012c8_row1_col3\" class=\"data row1 col3\" >-0.056769</td>\n",
       "      <td id=\"T_012c8_row1_col4\" class=\"data row1 col4\" >-0.197912</td>\n",
       "      <td id=\"T_012c8_row1_col5\" class=\"data row1 col5\" >0.045032</td>\n",
       "      <td id=\"T_012c8_row1_col6\" class=\"data row1 col6\" >-0.058196</td>\n",
       "      <td id=\"T_012c8_row1_col7\" class=\"data row1 col7\" >-0.044020</td>\n",
       "      <td id=\"T_012c8_row1_col8\" class=\"data row1 col8\" >0.141664</td>\n",
       "      <td id=\"T_012c8_row1_col9\" class=\"data row1 col9\" >0.096093</td>\n",
       "      <td id=\"T_012c8_row1_col10\" class=\"data row1 col10\" >-0.030711</td>\n",
       "      <td id=\"T_012c8_row1_col11\" class=\"data row1 col11\" >0.118261</td>\n",
       "      <td id=\"T_012c8_row1_col12\" class=\"data row1 col12\" >0.210041</td>\n",
       "      <td id=\"T_012c8_row1_col13\" class=\"data row1 col13\" >-0.280937</td>\n",
       "    </tr>\n",
       "    <tr>\n",
       "      <th id=\"T_012c8_level0_row2\" class=\"row_heading level0 row2\" >cp</th>\n",
       "      <td id=\"T_012c8_row2_col0\" class=\"data row2 col0\" >-0.068653</td>\n",
       "      <td id=\"T_012c8_row2_col1\" class=\"data row2 col1\" >-0.049353</td>\n",
       "      <td id=\"T_012c8_row2_col2\" class=\"data row2 col2\" >1.000000</td>\n",
       "      <td id=\"T_012c8_row2_col3\" class=\"data row2 col3\" >0.047608</td>\n",
       "      <td id=\"T_012c8_row2_col4\" class=\"data row2 col4\" >-0.076904</td>\n",
       "      <td id=\"T_012c8_row2_col5\" class=\"data row2 col5\" >0.094444</td>\n",
       "      <td id=\"T_012c8_row2_col6\" class=\"data row2 col6\" >0.044421</td>\n",
       "      <td id=\"T_012c8_row2_col7\" class=\"data row2 col7\" >0.295762</td>\n",
       "      <td id=\"T_012c8_row2_col8\" class=\"data row2 col8\" >-0.394280</td>\n",
       "      <td id=\"T_012c8_row2_col9\" class=\"data row2 col9\" >-0.149230</td>\n",
       "      <td id=\"T_012c8_row2_col10\" class=\"data row2 col10\" >0.119717</td>\n",
       "      <td id=\"T_012c8_row2_col11\" class=\"data row2 col11\" >-0.181053</td>\n",
       "      <td id=\"T_012c8_row2_col12\" class=\"data row2 col12\" >-0.161736</td>\n",
       "      <td id=\"T_012c8_row2_col13\" class=\"data row2 col13\" >0.433798</td>\n",
       "    </tr>\n",
       "    <tr>\n",
       "      <th id=\"T_012c8_level0_row3\" class=\"row_heading level0 row3\" >trestbps</th>\n",
       "      <td id=\"T_012c8_row3_col0\" class=\"data row3 col0\" >0.279351</td>\n",
       "      <td id=\"T_012c8_row3_col1\" class=\"data row3 col1\" >-0.056769</td>\n",
       "      <td id=\"T_012c8_row3_col2\" class=\"data row3 col2\" >0.047608</td>\n",
       "      <td id=\"T_012c8_row3_col3\" class=\"data row3 col3\" >1.000000</td>\n",
       "      <td id=\"T_012c8_row3_col4\" class=\"data row3 col4\" >0.123174</td>\n",
       "      <td id=\"T_012c8_row3_col5\" class=\"data row3 col5\" >0.177531</td>\n",
       "      <td id=\"T_012c8_row3_col6\" class=\"data row3 col6\" >-0.114103</td>\n",
       "      <td id=\"T_012c8_row3_col7\" class=\"data row3 col7\" >-0.046698</td>\n",
       "      <td id=\"T_012c8_row3_col8\" class=\"data row3 col8\" >0.067616</td>\n",
       "      <td id=\"T_012c8_row3_col9\" class=\"data row3 col9\" >0.193216</td>\n",
       "      <td id=\"T_012c8_row3_col10\" class=\"data row3 col10\" >-0.121475</td>\n",
       "      <td id=\"T_012c8_row3_col11\" class=\"data row3 col11\" >0.101389</td>\n",
       "      <td id=\"T_012c8_row3_col12\" class=\"data row3 col12\" >0.062210</td>\n",
       "      <td id=\"T_012c8_row3_col13\" class=\"data row3 col13\" >-0.144931</td>\n",
       "    </tr>\n",
       "    <tr>\n",
       "      <th id=\"T_012c8_level0_row4\" class=\"row_heading level0 row4\" >chol</th>\n",
       "      <td id=\"T_012c8_row4_col0\" class=\"data row4 col0\" >0.213678</td>\n",
       "      <td id=\"T_012c8_row4_col1\" class=\"data row4 col1\" >-0.197912</td>\n",
       "      <td id=\"T_012c8_row4_col2\" class=\"data row4 col2\" >-0.076904</td>\n",
       "      <td id=\"T_012c8_row4_col3\" class=\"data row4 col3\" >0.123174</td>\n",
       "      <td id=\"T_012c8_row4_col4\" class=\"data row4 col4\" >1.000000</td>\n",
       "      <td id=\"T_012c8_row4_col5\" class=\"data row4 col5\" >0.013294</td>\n",
       "      <td id=\"T_012c8_row4_col6\" class=\"data row4 col6\" >-0.151040</td>\n",
       "      <td id=\"T_012c8_row4_col7\" class=\"data row4 col7\" >-0.009940</td>\n",
       "      <td id=\"T_012c8_row4_col8\" class=\"data row4 col8\" >0.067023</td>\n",
       "      <td id=\"T_012c8_row4_col9\" class=\"data row4 col9\" >0.053952</td>\n",
       "      <td id=\"T_012c8_row4_col10\" class=\"data row4 col10\" >-0.004038</td>\n",
       "      <td id=\"T_012c8_row4_col11\" class=\"data row4 col11\" >0.070511</td>\n",
       "      <td id=\"T_012c8_row4_col12\" class=\"data row4 col12\" >0.098803</td>\n",
       "      <td id=\"T_012c8_row4_col13\" class=\"data row4 col13\" >-0.085239</td>\n",
       "    </tr>\n",
       "    <tr>\n",
       "      <th id=\"T_012c8_level0_row5\" class=\"row_heading level0 row5\" >fbs</th>\n",
       "      <td id=\"T_012c8_row5_col0\" class=\"data row5 col0\" >0.121308</td>\n",
       "      <td id=\"T_012c8_row5_col1\" class=\"data row5 col1\" >0.045032</td>\n",
       "      <td id=\"T_012c8_row5_col2\" class=\"data row5 col2\" >0.094444</td>\n",
       "      <td id=\"T_012c8_row5_col3\" class=\"data row5 col3\" >0.177531</td>\n",
       "      <td id=\"T_012c8_row5_col4\" class=\"data row5 col4\" >0.013294</td>\n",
       "      <td id=\"T_012c8_row5_col5\" class=\"data row5 col5\" >1.000000</td>\n",
       "      <td id=\"T_012c8_row5_col6\" class=\"data row5 col6\" >-0.084189</td>\n",
       "      <td id=\"T_012c8_row5_col7\" class=\"data row5 col7\" >-0.008567</td>\n",
       "      <td id=\"T_012c8_row5_col8\" class=\"data row5 col8\" >0.025665</td>\n",
       "      <td id=\"T_012c8_row5_col9\" class=\"data row5 col9\" >0.005747</td>\n",
       "      <td id=\"T_012c8_row5_col10\" class=\"data row5 col10\" >-0.059894</td>\n",
       "      <td id=\"T_012c8_row5_col11\" class=\"data row5 col11\" >0.137979</td>\n",
       "      <td id=\"T_012c8_row5_col12\" class=\"data row5 col12\" >-0.032019</td>\n",
       "      <td id=\"T_012c8_row5_col13\" class=\"data row5 col13\" >-0.028046</td>\n",
       "    </tr>\n",
       "    <tr>\n",
       "      <th id=\"T_012c8_level0_row6\" class=\"row_heading level0 row6\" >restecg</th>\n",
       "      <td id=\"T_012c8_row6_col0\" class=\"data row6 col0\" >-0.116211</td>\n",
       "      <td id=\"T_012c8_row6_col1\" class=\"data row6 col1\" >-0.058196</td>\n",
       "      <td id=\"T_012c8_row6_col2\" class=\"data row6 col2\" >0.044421</td>\n",
       "      <td id=\"T_012c8_row6_col3\" class=\"data row6 col3\" >-0.114103</td>\n",
       "      <td id=\"T_012c8_row6_col4\" class=\"data row6 col4\" >-0.151040</td>\n",
       "      <td id=\"T_012c8_row6_col5\" class=\"data row6 col5\" >-0.084189</td>\n",
       "      <td id=\"T_012c8_row6_col6\" class=\"data row6 col6\" >1.000000</td>\n",
       "      <td id=\"T_012c8_row6_col7\" class=\"data row6 col7\" >0.044123</td>\n",
       "      <td id=\"T_012c8_row6_col8\" class=\"data row6 col8\" >-0.070733</td>\n",
       "      <td id=\"T_012c8_row6_col9\" class=\"data row6 col9\" >-0.058770</td>\n",
       "      <td id=\"T_012c8_row6_col10\" class=\"data row6 col10\" >0.093045</td>\n",
       "      <td id=\"T_012c8_row6_col11\" class=\"data row6 col11\" >-0.072042</td>\n",
       "      <td id=\"T_012c8_row6_col12\" class=\"data row6 col12\" >-0.011981</td>\n",
       "      <td id=\"T_012c8_row6_col13\" class=\"data row6 col13\" >0.137230</td>\n",
       "    </tr>\n",
       "    <tr>\n",
       "      <th id=\"T_012c8_level0_row7\" class=\"row_heading level0 row7\" >thalach</th>\n",
       "      <td id=\"T_012c8_row7_col0\" class=\"data row7 col0\" >-0.398522</td>\n",
       "      <td id=\"T_012c8_row7_col1\" class=\"data row7 col1\" >-0.044020</td>\n",
       "      <td id=\"T_012c8_row7_col2\" class=\"data row7 col2\" >0.295762</td>\n",
       "      <td id=\"T_012c8_row7_col3\" class=\"data row7 col3\" >-0.046698</td>\n",
       "      <td id=\"T_012c8_row7_col4\" class=\"data row7 col4\" >-0.009940</td>\n",
       "      <td id=\"T_012c8_row7_col5\" class=\"data row7 col5\" >-0.008567</td>\n",
       "      <td id=\"T_012c8_row7_col6\" class=\"data row7 col6\" >0.044123</td>\n",
       "      <td id=\"T_012c8_row7_col7\" class=\"data row7 col7\" >1.000000</td>\n",
       "      <td id=\"T_012c8_row7_col8\" class=\"data row7 col8\" >-0.378812</td>\n",
       "      <td id=\"T_012c8_row7_col9\" class=\"data row7 col9\" >-0.344187</td>\n",
       "      <td id=\"T_012c8_row7_col10\" class=\"data row7 col10\" >0.386784</td>\n",
       "      <td id=\"T_012c8_row7_col11\" class=\"data row7 col11\" >-0.213177</td>\n",
       "      <td id=\"T_012c8_row7_col12\" class=\"data row7 col12\" >-0.096439</td>\n",
       "      <td id=\"T_012c8_row7_col13\" class=\"data row7 col13\" >0.421741</td>\n",
       "    </tr>\n",
       "    <tr>\n",
       "      <th id=\"T_012c8_level0_row8\" class=\"row_heading level0 row8\" >exang</th>\n",
       "      <td id=\"T_012c8_row8_col0\" class=\"data row8 col0\" >0.096801</td>\n",
       "      <td id=\"T_012c8_row8_col1\" class=\"data row8 col1\" >0.141664</td>\n",
       "      <td id=\"T_012c8_row8_col2\" class=\"data row8 col2\" >-0.394280</td>\n",
       "      <td id=\"T_012c8_row8_col3\" class=\"data row8 col3\" >0.067616</td>\n",
       "      <td id=\"T_012c8_row8_col4\" class=\"data row8 col4\" >0.067023</td>\n",
       "      <td id=\"T_012c8_row8_col5\" class=\"data row8 col5\" >0.025665</td>\n",
       "      <td id=\"T_012c8_row8_col6\" class=\"data row8 col6\" >-0.070733</td>\n",
       "      <td id=\"T_012c8_row8_col7\" class=\"data row8 col7\" >-0.378812</td>\n",
       "      <td id=\"T_012c8_row8_col8\" class=\"data row8 col8\" >1.000000</td>\n",
       "      <td id=\"T_012c8_row8_col9\" class=\"data row8 col9\" >0.288223</td>\n",
       "      <td id=\"T_012c8_row8_col10\" class=\"data row8 col10\" >-0.257748</td>\n",
       "      <td id=\"T_012c8_row8_col11\" class=\"data row8 col11\" >0.115739</td>\n",
       "      <td id=\"T_012c8_row8_col12\" class=\"data row8 col12\" >0.206754</td>\n",
       "      <td id=\"T_012c8_row8_col13\" class=\"data row8 col13\" >-0.436757</td>\n",
       "    </tr>\n",
       "    <tr>\n",
       "      <th id=\"T_012c8_level0_row9\" class=\"row_heading level0 row9\" >oldpeak</th>\n",
       "      <td id=\"T_012c8_row9_col0\" class=\"data row9 col0\" >0.210013</td>\n",
       "      <td id=\"T_012c8_row9_col1\" class=\"data row9 col1\" >0.096093</td>\n",
       "      <td id=\"T_012c8_row9_col2\" class=\"data row9 col2\" >-0.149230</td>\n",
       "      <td id=\"T_012c8_row9_col3\" class=\"data row9 col3\" >0.193216</td>\n",
       "      <td id=\"T_012c8_row9_col4\" class=\"data row9 col4\" >0.053952</td>\n",
       "      <td id=\"T_012c8_row9_col5\" class=\"data row9 col5\" >0.005747</td>\n",
       "      <td id=\"T_012c8_row9_col6\" class=\"data row9 col6\" >-0.058770</td>\n",
       "      <td id=\"T_012c8_row9_col7\" class=\"data row9 col7\" >-0.344187</td>\n",
       "      <td id=\"T_012c8_row9_col8\" class=\"data row9 col8\" >0.288223</td>\n",
       "      <td id=\"T_012c8_row9_col9\" class=\"data row9 col9\" >1.000000</td>\n",
       "      <td id=\"T_012c8_row9_col10\" class=\"data row9 col10\" >-0.577537</td>\n",
       "      <td id=\"T_012c8_row9_col11\" class=\"data row9 col11\" >0.222682</td>\n",
       "      <td id=\"T_012c8_row9_col12\" class=\"data row9 col12\" >0.210244</td>\n",
       "      <td id=\"T_012c8_row9_col13\" class=\"data row9 col13\" >-0.430696</td>\n",
       "    </tr>\n",
       "    <tr>\n",
       "      <th id=\"T_012c8_level0_row10\" class=\"row_heading level0 row10\" >slope</th>\n",
       "      <td id=\"T_012c8_row10_col0\" class=\"data row10 col0\" >-0.168814</td>\n",
       "      <td id=\"T_012c8_row10_col1\" class=\"data row10 col1\" >-0.030711</td>\n",
       "      <td id=\"T_012c8_row10_col2\" class=\"data row10 col2\" >0.119717</td>\n",
       "      <td id=\"T_012c8_row10_col3\" class=\"data row10 col3\" >-0.121475</td>\n",
       "      <td id=\"T_012c8_row10_col4\" class=\"data row10 col4\" >-0.004038</td>\n",
       "      <td id=\"T_012c8_row10_col5\" class=\"data row10 col5\" >-0.059894</td>\n",
       "      <td id=\"T_012c8_row10_col6\" class=\"data row10 col6\" >0.093045</td>\n",
       "      <td id=\"T_012c8_row10_col7\" class=\"data row10 col7\" >0.386784</td>\n",
       "      <td id=\"T_012c8_row10_col8\" class=\"data row10 col8\" >-0.257748</td>\n",
       "      <td id=\"T_012c8_row10_col9\" class=\"data row10 col9\" >-0.577537</td>\n",
       "      <td id=\"T_012c8_row10_col10\" class=\"data row10 col10\" >1.000000</td>\n",
       "      <td id=\"T_012c8_row10_col11\" class=\"data row10 col11\" >-0.080155</td>\n",
       "      <td id=\"T_012c8_row10_col12\" class=\"data row10 col12\" >-0.104764</td>\n",
       "      <td id=\"T_012c8_row10_col13\" class=\"data row10 col13\" >0.345877</td>\n",
       "    </tr>\n",
       "    <tr>\n",
       "      <th id=\"T_012c8_level0_row11\" class=\"row_heading level0 row11\" >ca</th>\n",
       "      <td id=\"T_012c8_row11_col0\" class=\"data row11 col0\" >0.276326</td>\n",
       "      <td id=\"T_012c8_row11_col1\" class=\"data row11 col1\" >0.118261</td>\n",
       "      <td id=\"T_012c8_row11_col2\" class=\"data row11 col2\" >-0.181053</td>\n",
       "      <td id=\"T_012c8_row11_col3\" class=\"data row11 col3\" >0.101389</td>\n",
       "      <td id=\"T_012c8_row11_col4\" class=\"data row11 col4\" >0.070511</td>\n",
       "      <td id=\"T_012c8_row11_col5\" class=\"data row11 col5\" >0.137979</td>\n",
       "      <td id=\"T_012c8_row11_col6\" class=\"data row11 col6\" >-0.072042</td>\n",
       "      <td id=\"T_012c8_row11_col7\" class=\"data row11 col7\" >-0.213177</td>\n",
       "      <td id=\"T_012c8_row11_col8\" class=\"data row11 col8\" >0.115739</td>\n",
       "      <td id=\"T_012c8_row11_col9\" class=\"data row11 col9\" >0.222682</td>\n",
       "      <td id=\"T_012c8_row11_col10\" class=\"data row11 col10\" >-0.080155</td>\n",
       "      <td id=\"T_012c8_row11_col11\" class=\"data row11 col11\" >1.000000</td>\n",
       "      <td id=\"T_012c8_row11_col12\" class=\"data row11 col12\" >0.151832</td>\n",
       "      <td id=\"T_012c8_row11_col13\" class=\"data row11 col13\" >-0.391724</td>\n",
       "    </tr>\n",
       "    <tr>\n",
       "      <th id=\"T_012c8_level0_row12\" class=\"row_heading level0 row12\" >thal</th>\n",
       "      <td id=\"T_012c8_row12_col0\" class=\"data row12 col0\" >0.068001</td>\n",
       "      <td id=\"T_012c8_row12_col1\" class=\"data row12 col1\" >0.210041</td>\n",
       "      <td id=\"T_012c8_row12_col2\" class=\"data row12 col2\" >-0.161736</td>\n",
       "      <td id=\"T_012c8_row12_col3\" class=\"data row12 col3\" >0.062210</td>\n",
       "      <td id=\"T_012c8_row12_col4\" class=\"data row12 col4\" >0.098803</td>\n",
       "      <td id=\"T_012c8_row12_col5\" class=\"data row12 col5\" >-0.032019</td>\n",
       "      <td id=\"T_012c8_row12_col6\" class=\"data row12 col6\" >-0.011981</td>\n",
       "      <td id=\"T_012c8_row12_col7\" class=\"data row12 col7\" >-0.096439</td>\n",
       "      <td id=\"T_012c8_row12_col8\" class=\"data row12 col8\" >0.206754</td>\n",
       "      <td id=\"T_012c8_row12_col9\" class=\"data row12 col9\" >0.210244</td>\n",
       "      <td id=\"T_012c8_row12_col10\" class=\"data row12 col10\" >-0.104764</td>\n",
       "      <td id=\"T_012c8_row12_col11\" class=\"data row12 col11\" >0.151832</td>\n",
       "      <td id=\"T_012c8_row12_col12\" class=\"data row12 col12\" >1.000000</td>\n",
       "      <td id=\"T_012c8_row12_col13\" class=\"data row12 col13\" >-0.344029</td>\n",
       "    </tr>\n",
       "    <tr>\n",
       "      <th id=\"T_012c8_level0_row13\" class=\"row_heading level0 row13\" >target</th>\n",
       "      <td id=\"T_012c8_row13_col0\" class=\"data row13 col0\" >-0.225439</td>\n",
       "      <td id=\"T_012c8_row13_col1\" class=\"data row13 col1\" >-0.280937</td>\n",
       "      <td id=\"T_012c8_row13_col2\" class=\"data row13 col2\" >0.433798</td>\n",
       "      <td id=\"T_012c8_row13_col3\" class=\"data row13 col3\" >-0.144931</td>\n",
       "      <td id=\"T_012c8_row13_col4\" class=\"data row13 col4\" >-0.085239</td>\n",
       "      <td id=\"T_012c8_row13_col5\" class=\"data row13 col5\" >-0.028046</td>\n",
       "      <td id=\"T_012c8_row13_col6\" class=\"data row13 col6\" >0.137230</td>\n",
       "      <td id=\"T_012c8_row13_col7\" class=\"data row13 col7\" >0.421741</td>\n",
       "      <td id=\"T_012c8_row13_col8\" class=\"data row13 col8\" >-0.436757</td>\n",
       "      <td id=\"T_012c8_row13_col9\" class=\"data row13 col9\" >-0.430696</td>\n",
       "      <td id=\"T_012c8_row13_col10\" class=\"data row13 col10\" >0.345877</td>\n",
       "      <td id=\"T_012c8_row13_col11\" class=\"data row13 col11\" >-0.391724</td>\n",
       "      <td id=\"T_012c8_row13_col12\" class=\"data row13 col12\" >-0.344029</td>\n",
       "      <td id=\"T_012c8_row13_col13\" class=\"data row13 col13\" >1.000000</td>\n",
       "    </tr>\n",
       "  </tbody>\n",
       "</table>\n"
      ],
      "text/plain": [
       "<pandas.io.formats.style.Styler at 0x19252976340>"
      ]
     },
     "execution_count": 14,
     "metadata": {},
     "output_type": "execute_result"
    }
   ],
   "source": [
    "df.corr().style.applymap(color_red)"
   ]
  },
  {
   "cell_type": "code",
   "execution_count": 15,
   "id": "9b6ea4a6",
   "metadata": {},
   "outputs": [
    {
     "data": {
      "image/png": "[encoded data removed]",
      "text/plain": [
       "<Figure size 1440x1440 with 14 Axes>"
      ]
     },
     "metadata": {
      "needs_background": "light"
     },
     "output_type": "display_data"
    }
   ],
   "source": [
    "index = 0\n",
    "plt.figure(figsize=(20,20))\n",
    "for feature in df.columns:\n",
    "    if feature != \"Outcome\":\n",
    "        index += 1\n",
    "        plt.subplot(3,5,index)\n",
    "        sns.boxplot(y=feature,data=df)\n",
    "plt.show()"
   ]
  },
  {
   "cell_type": "code",
   "execution_count": 16,
   "id": "6d618d4d",
   "metadata": {},
   "outputs": [
    {
     "data": {
      "text/plain": [
       "array([1, 0], dtype=int64)"
      ]
     },
     "execution_count": 16,
     "metadata": {},
     "output_type": "execute_result"
    }
   ],
   "source": [
    "df[\"fbs\"].unique()"
   ]
  },
  {
   "cell_type": "code",
   "execution_count": 17,
   "id": "6b37b60e",
   "metadata": {},
   "outputs": [
    {
     "data": {
      "text/plain": [
       "0    258\n",
       "1     45\n",
       "Name: fbs, dtype: int64"
      ]
     },
     "execution_count": 17,
     "metadata": {},
     "output_type": "execute_result"
    }
   ],
   "source": [
    "df.fbs.value_counts(dropna=False)"
   ]
  },
  {
   "cell_type": "code",
   "execution_count": 18,
   "id": "08631e58",
   "metadata": {},
   "outputs": [
    {
     "data": {
      "image/png": "[encoded data removed]",
      "text/plain": [
       "<Figure size 720x432 with 1 Axes>"
      ]
     },
     "metadata": {
      "needs_background": "light"
     },
     "output_type": "display_data"
    }
   ],
   "source": [
    "df.corr()[\"target\"].drop(\"target\").sort_values().plot.barh();"
   ]
  },
  {
   "cell_type": "markdown",
   "id": "9XRYs7_ZwvG1",
   "metadata": {
    "id": "9XRYs7_ZwvG1"
   },
   "source": [
    "# Data Preprocessing"
   ]
  },
  {
   "cell_type": "code",
   "execution_count": 19,
   "id": "b70a491f",
   "metadata": {},
   "outputs": [],
   "source": [
    "from sklearn.model_selection import train_test_split\n",
    "from sklearn.preprocessing import StandardScaler"
   ]
  },
  {
   "cell_type": "code",
   "execution_count": 20,
   "id": "e4914ef8",
   "metadata": {},
   "outputs": [],
   "source": [
    "X = df.drop(columns =\"target\")\n",
    "y = df[\"target\"]"
   ]
  },
  {
   "cell_type": "code",
   "execution_count": 21,
   "id": "ea9b1893",
   "metadata": {},
   "outputs": [],
   "source": [
    "X_train, X_test, y_train, y_test = train_test_split(X, y, test_size=0.20, stratify=y, random_state=42)"
   ]
  },
  {
   "cell_type": "code",
   "execution_count": 22,
   "id": "ba71cc49",
   "metadata": {},
   "outputs": [],
   "source": [
    "scaler = StandardScaler()"
   ]
  },
  {
   "cell_type": "code",
   "execution_count": 23,
   "id": "6a231e8d",
   "metadata": {},
   "outputs": [],
   "source": [
    "X_train_scaled = scaler.fit_transform(X_train)\n",
    "X_test_scaled = scaler.transform(X_test)"
   ]
  },
  {
   "cell_type": "code",
   "execution_count": 24,
   "id": "c6881ea3",
   "metadata": {},
   "outputs": [
    {
     "name": "stdout",
     "output_type": "stream",
     "text": [
      "Data Frame shape     :  (303, 14)\n",
      "Train features shape :  (242, 13)\n",
      "Train target shape   :  (242,)\n",
      "Test features shape  :  (61, 13)\n",
      "Test target shape    :  (61,)\n"
     ]
    }
   ],
   "source": [
    "print(\"Data Frame shape     : \", df.shape)\n",
    "print(\"Train features shape : \", X_train.shape)\n",
    "print(\"Train target shape   : \", y_train.shape)\n",
    "print(\"Test features shape  : \", X_test.shape)\n",
    "print(\"Test target shape    : \", y_test.shape)"
   ]
  },
  {
   "cell_type": "markdown",
   "id": "jeBjgfDiw6uJ",
   "metadata": {
    "id": "jeBjgfDiw6uJ"
   },
   "source": [
    "# Implement Logistic Regression and Evaluate"
   ]
  },
  {
   "cell_type": "code",
   "execution_count": 25,
   "id": "61cfd2b8",
   "metadata": {},
   "outputs": [],
   "source": [
    "from sklearn.linear_model import LogisticRegression"
   ]
  },
  {
   "cell_type": "code",
   "execution_count": 26,
   "id": "a030d232",
   "metadata": {},
   "outputs": [],
   "source": [
    "log_model=LogisticRegression()"
   ]
  },
  {
   "cell_type": "code",
   "execution_count": 27,
   "id": "10732c43",
   "metadata": {},
   "outputs": [
    {
     "data": {
      "text/plain": [
       "LogisticRegression()"
      ]
     },
     "execution_count": 27,
     "metadata": {},
     "output_type": "execute_result"
    }
   ],
   "source": [
    "log_model.fit(X_train_scaled, y_train)"
   ]
  },
  {
   "cell_type": "code",
   "execution_count": 28,
   "id": "15652e0c",
   "metadata": {},
   "outputs": [],
   "source": [
    "y_pred=log_model.predict(X_test_scaled)"
   ]
  },
  {
   "cell_type": "code",
   "execution_count": 29,
   "id": "8f45a056",
   "metadata": {},
   "outputs": [],
   "source": [
    "y_pred_proba = log_model.predict_proba(X_test_scaled)"
   ]
  },
  {
   "cell_type": "code",
   "execution_count": 30,
   "id": "0a7143b5",
   "metadata": {},
   "outputs": [
    {
     "data": {
      "text/html": [
       "<div>\n",
       "<style scoped>\n",
       "    .dataframe tbody tr th:only-of-type {\n",
       "        vertical-align: middle;\n",
       "    }\n",
       "\n",
       "    .dataframe tbody tr th {\n",
       "        vertical-align: top;\n",
       "    }\n",
       "\n",
       "    .dataframe thead th {\n",
       "        text-align: right;\n",
       "    }\n",
       "</style>\n",
       "<table border=\"1\" class=\"dataframe\">\n",
       "  <thead>\n",
       "    <tr style=\"text-align: right;\">\n",
       "      <th></th>\n",
       "      <th>age</th>\n",
       "      <th>sex</th>\n",
       "      <th>cp</th>\n",
       "      <th>trestbps</th>\n",
       "      <th>chol</th>\n",
       "      <th>fbs</th>\n",
       "      <th>restecg</th>\n",
       "      <th>thalach</th>\n",
       "      <th>exang</th>\n",
       "      <th>oldpeak</th>\n",
       "      <th>slope</th>\n",
       "      <th>ca</th>\n",
       "      <th>thal</th>\n",
       "      <th>target</th>\n",
       "      <th>pred</th>\n",
       "      <th>pred_proba</th>\n",
       "    </tr>\n",
       "  </thead>\n",
       "  <tbody>\n",
       "    <tr>\n",
       "      <th>264</th>\n",
       "      <td>54</td>\n",
       "      <td>1</td>\n",
       "      <td>0</td>\n",
       "      <td>110</td>\n",
       "      <td>206</td>\n",
       "      <td>0</td>\n",
       "      <td>0</td>\n",
       "      <td>108</td>\n",
       "      <td>1</td>\n",
       "      <td>0.000</td>\n",
       "      <td>1</td>\n",
       "      <td>1</td>\n",
       "      <td>2</td>\n",
       "      <td>0</td>\n",
       "      <td>0</td>\n",
       "      <td>0.120</td>\n",
       "    </tr>\n",
       "    <tr>\n",
       "      <th>236</th>\n",
       "      <td>58</td>\n",
       "      <td>1</td>\n",
       "      <td>0</td>\n",
       "      <td>125</td>\n",
       "      <td>300</td>\n",
       "      <td>0</td>\n",
       "      <td>0</td>\n",
       "      <td>171</td>\n",
       "      <td>0</td>\n",
       "      <td>0.000</td>\n",
       "      <td>2</td>\n",
       "      <td>2</td>\n",
       "      <td>3</td>\n",
       "      <td>0</td>\n",
       "      <td>0</td>\n",
       "      <td>0.172</td>\n",
       "    </tr>\n",
       "    <tr>\n",
       "      <th>285</th>\n",
       "      <td>46</td>\n",
       "      <td>1</td>\n",
       "      <td>0</td>\n",
       "      <td>140</td>\n",
       "      <td>311</td>\n",
       "      <td>0</td>\n",
       "      <td>1</td>\n",
       "      <td>120</td>\n",
       "      <td>1</td>\n",
       "      <td>1.800</td>\n",
       "      <td>1</td>\n",
       "      <td>2</td>\n",
       "      <td>3</td>\n",
       "      <td>0</td>\n",
       "      <td>0</td>\n",
       "      <td>0.006</td>\n",
       "    </tr>\n",
       "    <tr>\n",
       "      <th>107</th>\n",
       "      <td>45</td>\n",
       "      <td>0</td>\n",
       "      <td>0</td>\n",
       "      <td>138</td>\n",
       "      <td>236</td>\n",
       "      <td>0</td>\n",
       "      <td>0</td>\n",
       "      <td>152</td>\n",
       "      <td>1</td>\n",
       "      <td>0.200</td>\n",
       "      <td>1</td>\n",
       "      <td>0</td>\n",
       "      <td>2</td>\n",
       "      <td>1</td>\n",
       "      <td>1</td>\n",
       "      <td>0.606</td>\n",
       "    </tr>\n",
       "    <tr>\n",
       "      <th>293</th>\n",
       "      <td>67</td>\n",
       "      <td>1</td>\n",
       "      <td>2</td>\n",
       "      <td>152</td>\n",
       "      <td>212</td>\n",
       "      <td>0</td>\n",
       "      <td>0</td>\n",
       "      <td>150</td>\n",
       "      <td>0</td>\n",
       "      <td>0.800</td>\n",
       "      <td>1</td>\n",
       "      <td>0</td>\n",
       "      <td>3</td>\n",
       "      <td>0</td>\n",
       "      <td>1</td>\n",
       "      <td>0.622</td>\n",
       "    </tr>\n",
       "    <tr>\n",
       "      <th>160</th>\n",
       "      <td>56</td>\n",
       "      <td>1</td>\n",
       "      <td>1</td>\n",
       "      <td>120</td>\n",
       "      <td>240</td>\n",
       "      <td>0</td>\n",
       "      <td>1</td>\n",
       "      <td>169</td>\n",
       "      <td>0</td>\n",
       "      <td>0.000</td>\n",
       "      <td>0</td>\n",
       "      <td>0</td>\n",
       "      <td>2</td>\n",
       "      <td>1</td>\n",
       "      <td>1</td>\n",
       "      <td>0.817</td>\n",
       "    </tr>\n",
       "    <tr>\n",
       "      <th>141</th>\n",
       "      <td>43</td>\n",
       "      <td>1</td>\n",
       "      <td>0</td>\n",
       "      <td>115</td>\n",
       "      <td>303</td>\n",
       "      <td>0</td>\n",
       "      <td>1</td>\n",
       "      <td>181</td>\n",
       "      <td>0</td>\n",
       "      <td>1.200</td>\n",
       "      <td>1</td>\n",
       "      <td>0</td>\n",
       "      <td>2</td>\n",
       "      <td>1</td>\n",
       "      <td>1</td>\n",
       "      <td>0.547</td>\n",
       "    </tr>\n",
       "    <tr>\n",
       "      <th>267</th>\n",
       "      <td>49</td>\n",
       "      <td>1</td>\n",
       "      <td>2</td>\n",
       "      <td>118</td>\n",
       "      <td>149</td>\n",
       "      <td>0</td>\n",
       "      <td>0</td>\n",
       "      <td>126</td>\n",
       "      <td>0</td>\n",
       "      <td>0.800</td>\n",
       "      <td>2</td>\n",
       "      <td>3</td>\n",
       "      <td>2</td>\n",
       "      <td>0</td>\n",
       "      <td>1</td>\n",
       "      <td>0.689</td>\n",
       "    </tr>\n",
       "    <tr>\n",
       "      <th>194</th>\n",
       "      <td>60</td>\n",
       "      <td>1</td>\n",
       "      <td>2</td>\n",
       "      <td>140</td>\n",
       "      <td>185</td>\n",
       "      <td>0</td>\n",
       "      <td>0</td>\n",
       "      <td>155</td>\n",
       "      <td>0</td>\n",
       "      <td>3.000</td>\n",
       "      <td>1</td>\n",
       "      <td>0</td>\n",
       "      <td>2</td>\n",
       "      <td>0</td>\n",
       "      <td>1</td>\n",
       "      <td>0.722</td>\n",
       "    </tr>\n",
       "    <tr>\n",
       "      <th>185</th>\n",
       "      <td>44</td>\n",
       "      <td>1</td>\n",
       "      <td>0</td>\n",
       "      <td>112</td>\n",
       "      <td>290</td>\n",
       "      <td>0</td>\n",
       "      <td>0</td>\n",
       "      <td>153</td>\n",
       "      <td>0</td>\n",
       "      <td>0.000</td>\n",
       "      <td>2</td>\n",
       "      <td>1</td>\n",
       "      <td>2</td>\n",
       "      <td>0</td>\n",
       "      <td>0</td>\n",
       "      <td>0.443</td>\n",
       "    </tr>\n",
       "  </tbody>\n",
       "</table>\n",
       "</div>"
      ],
      "text/plain": [
       "     age  sex  cp  trestbps  chol  fbs  restecg  thalach  exang  oldpeak  \\\n",
       "264   54    1   0       110   206    0        0      108      1    0.000   \n",
       "236   58    1   0       125   300    0        0      171      0    0.000   \n",
       "285   46    1   0       140   311    0        1      120      1    1.800   \n",
       "107   45    0   0       138   236    0        0      152      1    0.200   \n",
       "293   67    1   2       152   212    0        0      150      0    0.800   \n",
       "160   56    1   1       120   240    0        1      169      0    0.000   \n",
       "141   43    1   0       115   303    0        1      181      0    1.200   \n",
       "267   49    1   2       118   149    0        0      126      0    0.800   \n",
       "194   60    1   2       140   185    0        0      155      0    3.000   \n",
       "185   44    1   0       112   290    0        0      153      0    0.000   \n",
       "\n",
       "     slope  ca  thal  target  pred  pred_proba  \n",
       "264      1   1     2       0     0       0.120  \n",
       "236      2   2     3       0     0       0.172  \n",
       "285      1   2     3       0     0       0.006  \n",
       "107      1   0     2       1     1       0.606  \n",
       "293      1   0     3       0     1       0.622  \n",
       "160      0   0     2       1     1       0.817  \n",
       "141      1   0     2       1     1       0.547  \n",
       "267      2   3     2       0     1       0.689  \n",
       "194      1   0     2       0     1       0.722  \n",
       "185      2   1     2       0     0       0.443  "
      ]
     },
     "execution_count": 30,
     "metadata": {},
     "output_type": "execute_result"
    }
   ],
   "source": [
    "test_data = pd.concat([X_test, y_test], axis=1)\n",
    "test_data[\"pred\"] = y_pred\n",
    "test_data[\"pred_proba\"] = y_pred_proba[:,1]\n",
    "test_data.sample(10)"
   ]
  },
  {
   "cell_type": "code",
   "execution_count": 31,
   "id": "1cd8b2b2",
   "metadata": {},
   "outputs": [],
   "source": [
    "from sklearn.metrics import confusion_matrix, classification_report"
   ]
  },
  {
   "cell_type": "code",
   "execution_count": 32,
   "id": "7cb4d329",
   "metadata": {},
   "outputs": [],
   "source": [
    "def eval_metric(model, X_train, y_train, X_test, y_test):\n",
    "    global y_train_pred\n",
    "    y_train_pred = model.predict(X_train)\n",
    "    global y_pred\n",
    "    y_pred = model.predict(X_test)\n",
    "    \n",
    "    print(\"Test_Set\\n\")\n",
    "    print(confusion_matrix(y_test, y_pred))\n",
    "    print(classification_report(y_test, y_pred))\n",
    "    print()\n",
    "    print(\"Train_Set\\n\")\n",
    "    print(confusion_matrix(y_train, y_train_pred))\n",
    "    print(classification_report(y_train, y_train_pred))"
   ]
  },
  {
   "cell_type": "code",
   "execution_count": 33,
   "id": "c3b30c2d",
   "metadata": {},
   "outputs": [
    {
     "name": "stdout",
     "output_type": "stream",
     "text": [
      "Test_Set\n",
      "\n",
      "[[19  9]\n",
      " [ 3 30]]\n",
      "              precision    recall  f1-score   support\n",
      "\n",
      "           0       0.86      0.68      0.76        28\n",
      "           1       0.77      0.91      0.83        33\n",
      "\n",
      "    accuracy                           0.80        61\n",
      "   macro avg       0.82      0.79      0.80        61\n",
      "weighted avg       0.81      0.80      0.80        61\n",
      "\n",
      "\n",
      "Train_Set\n",
      "\n",
      "[[ 85  25]\n",
      " [ 13 119]]\n",
      "              precision    recall  f1-score   support\n",
      "\n",
      "           0       0.87      0.77      0.82       110\n",
      "           1       0.83      0.90      0.86       132\n",
      "\n",
      "    accuracy                           0.84       242\n",
      "   macro avg       0.85      0.84      0.84       242\n",
      "weighted avg       0.85      0.84      0.84       242\n",
      "\n"
     ]
    }
   ],
   "source": [
    "eval_metric(log_model, X_train_scaled, y_train, X_test_scaled, y_test)"
   ]
  },
  {
   "cell_type": "code",
   "execution_count": 34,
   "id": "38fcac24",
   "metadata": {},
   "outputs": [
    {
     "data": {
      "text/plain": [
       "array([[ 85,  25],\n",
       "       [ 13, 119]], dtype=int64)"
      ]
     },
     "execution_count": 34,
     "metadata": {},
     "output_type": "execute_result"
    }
   ],
   "source": [
    "logistic_confusion_matrix= confusion_matrix(y_train, y_train_pred)\n",
    "logistic_confusion_matrix"
   ]
  },
  {
   "cell_type": "markdown",
   "id": "4fb14d97",
   "metadata": {},
   "source": [
    "## With Grid"
   ]
  },
  {
   "cell_type": "code",
   "execution_count": 35,
   "id": "74590b43",
   "metadata": {},
   "outputs": [],
   "source": [
    "from sklearn.model_selection import GridSearchCV\n",
    "\n",
    "model = LogisticRegression()\n",
    "\n",
    "penalty = [\"l1\", \"l2\"]\n",
    "\n",
    "C = np.logspace(-1, 5, 20)\n",
    "\n",
    "class_weight= [\"balanced\", None] \n",
    "\n",
    "solver = [\"lbfgs\", \"liblinear\", \"sag\", \"saga\"]\n",
    "\n",
    "param_grid = {\"penalty\" : penalty,\n",
    "              \"C\" : C,\n",
    "              \"class_weight\":class_weight, \n",
    "              \"solver\":solver}\n",
    "\n",
    "\n",
    "grid_logistic_model = GridSearchCV(estimator=model,\n",
    "                          param_grid=param_grid,\n",
    "                          cv=10,\n",
    "                          scoring = \"recall\", n_jobs = -1)"
   ]
  },
  {
   "cell_type": "code",
   "execution_count": 36,
   "id": "5c347de9",
   "metadata": {},
   "outputs": [
    {
     "data": {
      "text/plain": [
       "GridSearchCV(cv=10, estimator=LogisticRegression(), n_jobs=-1,\n",
       "             param_grid={'C': array([1.00000000e-01, 2.06913808e-01, 4.28133240e-01, 8.85866790e-01,\n",
       "       1.83298071e+00, 3.79269019e+00, 7.84759970e+00, 1.62377674e+01,\n",
       "       3.35981829e+01, 6.95192796e+01, 1.43844989e+02, 2.97635144e+02,\n",
       "       6.15848211e+02, 1.27427499e+03, 2.63665090e+03, 5.45559478e+03,\n",
       "       1.12883789e+04, 2.33572147e+04, 4.83293024e+04, 1.00000000e+05]),\n",
       "                         'class_weight': ['balanced', None],\n",
       "                         'penalty': ['l1', 'l2'],\n",
       "                         'solver': ['lbfgs', 'liblinear', 'sag', 'saga']},\n",
       "             scoring='recall')"
      ]
     },
     "execution_count": 36,
     "metadata": {},
     "output_type": "execute_result"
    }
   ],
   "source": [
    "grid_logistic_model.fit(X_train_scaled,y_train)"
   ]
  },
  {
   "cell_type": "code",
   "execution_count": 37,
   "id": "e6ff9c78",
   "metadata": {},
   "outputs": [
    {
     "data": {
      "text/plain": [
       "{'C': 0.1, 'class_weight': None, 'penalty': 'l1', 'solver': 'saga'}"
      ]
     },
     "execution_count": 37,
     "metadata": {},
     "output_type": "execute_result"
    }
   ],
   "source": [
    "grid_logistic_model.best_params_"
   ]
  },
  {
   "cell_type": "code",
   "execution_count": 38,
   "id": "6429aa27",
   "metadata": {},
   "outputs": [
    {
     "name": "stdout",
     "output_type": "stream",
     "text": [
      "Test_Set\n",
      "\n",
      "[[18 10]\n",
      " [ 1 32]]\n",
      "              precision    recall  f1-score   support\n",
      "\n",
      "           0       0.95      0.64      0.77        28\n",
      "           1       0.76      0.97      0.85        33\n",
      "\n",
      "    accuracy                           0.82        61\n",
      "   macro avg       0.85      0.81      0.81        61\n",
      "weighted avg       0.85      0.82      0.81        61\n",
      "\n",
      "\n",
      "Train_Set\n",
      "\n",
      "[[ 86  24]\n",
      " [ 11 121]]\n",
      "              precision    recall  f1-score   support\n",
      "\n",
      "           0       0.89      0.78      0.83       110\n",
      "           1       0.83      0.92      0.87       132\n",
      "\n",
      "    accuracy                           0.86       242\n",
      "   macro avg       0.86      0.85      0.85       242\n",
      "weighted avg       0.86      0.86      0.85       242\n",
      "\n"
     ]
    }
   ],
   "source": [
    "eval_metric(grid_logistic_model, X_train_scaled, y_train, X_test_scaled, y_test)"
   ]
  },
  {
   "cell_type": "code",
   "execution_count": 39,
   "id": "aac57c18",
   "metadata": {},
   "outputs": [
    {
     "data": {
      "text/plain": [
       "array([[ 86,  24],\n",
       "       [ 11, 121]], dtype=int64)"
      ]
     },
     "execution_count": 39,
     "metadata": {},
     "output_type": "execute_result"
    }
   ],
   "source": [
    "logistic_grid_confusion_matrix = confusion_matrix(y_train, y_train_pred)\n",
    "logistic_grid_confusion_matrix"
   ]
  },
  {
   "cell_type": "code",
   "execution_count": 40,
   "id": "97896f5a",
   "metadata": {},
   "outputs": [
    {
     "data": {
      "text/plain": [
       "array([[18, 10],\n",
       "       [ 1, 32]], dtype=int64)"
      ]
     },
     "execution_count": 40,
     "metadata": {},
     "output_type": "execute_result"
    }
   ],
   "source": [
    "logistic_grid_test_confusion_matrix = confusion_matrix(y_test, y_pred)\n",
    "logistic_grid_test_confusion_matrix"
   ]
  },
  {
   "cell_type": "markdown",
   "id": "f58827df",
   "metadata": {},
   "source": [
    "## Finding Best Threshold for max recall score"
   ]
  },
  {
   "cell_type": "code",
   "execution_count": 41,
   "id": "41f84c58",
   "metadata": {},
   "outputs": [],
   "source": [
    "from sklearn.metrics import roc_auc_score, auc, roc_curve, average_precision_score"
   ]
  },
  {
   "cell_type": "code",
   "execution_count": 42,
   "id": "28696ea9",
   "metadata": {},
   "outputs": [
    {
     "data": {
      "text/plain": [
       "0.9279614325068871"
      ]
     },
     "execution_count": 42,
     "metadata": {},
     "output_type": "execute_result"
    }
   ],
   "source": [
    "y_pred_proba = log_model.predict_proba(X_train_scaled) #\n",
    "roc_auc_score(y_train, y_pred_proba[:,1])"
   ]
  },
  {
   "cell_type": "code",
   "execution_count": 43,
   "id": "91061d40",
   "metadata": {},
   "outputs": [],
   "source": [
    "fp_rate, tp_rate, thresholds = roc_curve(y_train, y_pred_proba[:,1])"
   ]
  },
  {
   "cell_type": "code",
   "execution_count": 44,
   "id": "bbd93662",
   "metadata": {},
   "outputs": [
    {
     "data": {
      "text/plain": [
       "0.598181635122485"
      ]
     },
     "execution_count": 44,
     "metadata": {},
     "output_type": "execute_result"
    }
   ],
   "source": [
    "optimal_idx = np.argmax(tp_rate - fp_rate)\n",
    "optimal_threshold = thresholds[optimal_idx]\n",
    "optimal_threshold"
   ]
  },
  {
   "cell_type": "code",
   "execution_count": 45,
   "id": "e4ca673b",
   "metadata": {},
   "outputs": [],
   "source": [
    "y_pred2 = pd.Series(grid_logistic_model.predict_proba(X_test_scaled)[:,1]).apply(lambda x : 1 if x >= optimal_threshold else 0)"
   ]
  },
  {
   "cell_type": "code",
   "execution_count": 46,
   "id": "bddf1f47",
   "metadata": {},
   "outputs": [
    {
     "name": "stdout",
     "output_type": "stream",
     "text": [
      "[[ 92  18]\n",
      " [ 21 111]]\n",
      "              precision    recall  f1-score   support\n",
      "\n",
      "           0       0.81      0.84      0.83       110\n",
      "           1       0.86      0.84      0.85       132\n",
      "\n",
      "    accuracy                           0.84       242\n",
      "   macro avg       0.84      0.84      0.84       242\n",
      "weighted avg       0.84      0.84      0.84       242\n",
      "\n"
     ]
    }
   ],
   "source": [
    "y_train_pred2 = pd.Series(grid_logistic_model.predict_proba(X_train_scaled)[:,1]).apply(lambda x : 1 if x >= optimal_threshold else 0)\n",
    "print(confusion_matrix(y_train, y_train_pred2))\n",
    "print(classification_report(y_train, y_train_pred2))"
   ]
  },
  {
   "cell_type": "code",
   "execution_count": 47,
   "id": "dea394d5",
   "metadata": {},
   "outputs": [
    {
     "data": {
      "text/plain": [
       "array([[ 92,  18],\n",
       "       [ 21, 111]], dtype=int64)"
      ]
     },
     "execution_count": 47,
     "metadata": {},
     "output_type": "execute_result"
    }
   ],
   "source": [
    "optimal_threshold_confusion_matrix = confusion_matrix(y_train, y_train_pred2)\n",
    "optimal_threshold_confusion_matrix"
   ]
  },
  {
   "cell_type": "code",
   "execution_count": null,
   "id": "00886948",
   "metadata": {},
   "outputs": [],
   "source": []
  },
  {
   "cell_type": "markdown",
   "id": "uyHR7S4ExKCU",
   "metadata": {
    "id": "uyHR7S4ExKCU"
   },
   "source": [
    "# Implement KNN and Evaluate"
   ]
  },
  {
   "cell_type": "code",
   "execution_count": 48,
   "id": "612bff88-57f4-4d18-88bc-6fc7bb95735f",
   "metadata": {
    "id": "612bff88-57f4-4d18-88bc-6fc7bb95735f"
   },
   "outputs": [],
   "source": [
    "from sklearn.metrics import accuracy_score, f1_score, recall_score, precision_score\n",
    "from sklearn.neighbors import KNeighborsClassifier"
   ]
  },
  {
   "cell_type": "code",
   "execution_count": 49,
   "id": "9600013a",
   "metadata": {},
   "outputs": [],
   "source": [
    "test_error_rates = []\n",
    "\n",
    "\n",
    "for k in range(1,30): \n",
    "    knn_model = KNeighborsClassifier(n_neighbors=k)\n",
    "    knn_model.fit(X_train_scaled,y_train) \n",
    "    y_train_pred = knn_model.predict(X_train)\n",
    "    y_pred = knn_model.predict(X_test)\n",
    "    y_pred_test = knn_model.predict(X_test_scaled)\n",
    "    \n",
    "    \n",
    "    test_error = 1 - accuracy_score(y_test,y_pred_test)\n",
    "    \n",
    "    test_error_rates.append(test_error)\n",
    "    "
   ]
  },
  {
   "cell_type": "code",
   "execution_count": 50,
   "id": "761debf1",
   "metadata": {},
   "outputs": [
    {
     "data": {
      "text/plain": [
       "<matplotlib.collections.LineCollection at 0x192532ee880>"
      ]
     },
     "execution_count": 50,
     "metadata": {},
     "output_type": "execute_result"
    },
    {
     "data": {
      "image/png": "[encoded data removed]",
      "text/plain": [
       "<Figure size 1080x576 with 1 Axes>"
      ]
     },
     "metadata": {
      "needs_background": "light"
     },
     "output_type": "display_data"
    }
   ],
   "source": [
    "plt.figure(figsize=(15,8))\n",
    "plt.plot(range(1,30), test_error_rates, color='blue', linestyle='--', marker='o',\n",
    "         markerfacecolor='red', markersize=10)\n",
    "\n",
    "plt.title('Error Rate vs. K Value')\n",
    "plt.xlabel('K_values')\n",
    "plt.ylabel('Error Rate')\n",
    "plt.hlines(y=0.13, xmin = 0, xmax = 30, colors= 'r', linestyles=\"--\")\n",
    "plt.hlines(y=0.162, xmin = 0, xmax = 30, colors= 'r', linestyles=\"--\")"
   ]
  },
  {
   "cell_type": "code",
   "execution_count": 51,
   "id": "b8832bd4",
   "metadata": {},
   "outputs": [
    {
     "name": "stdout",
     "output_type": "stream",
     "text": [
      "WITH K=12\n",
      "\n",
      "Test_Set\n",
      "\n",
      "[[22  6]\n",
      " [ 2 31]]\n",
      "              precision    recall  f1-score   support\n",
      "\n",
      "           0       0.92      0.79      0.85        28\n",
      "           1       0.84      0.94      0.89        33\n",
      "\n",
      "    accuracy                           0.87        61\n",
      "   macro avg       0.88      0.86      0.87        61\n",
      "weighted avg       0.87      0.87      0.87        61\n",
      "\n",
      "\n",
      "Train_Set\n",
      "\n",
      "[[ 91  19]\n",
      " [ 16 116]]\n",
      "              precision    recall  f1-score   support\n",
      "\n",
      "           0       0.85      0.83      0.84       110\n",
      "           1       0.86      0.88      0.87       132\n",
      "\n",
      "    accuracy                           0.86       242\n",
      "   macro avg       0.85      0.85      0.85       242\n",
      "weighted avg       0.86      0.86      0.86       242\n",
      "\n"
     ]
    }
   ],
   "source": [
    "knn = KNeighborsClassifier(n_neighbors=12)\n",
    "\n",
    "knn.fit(X_train_scaled,y_train)\n",
    "print('WITH K=12\\n')\n",
    "eval_metric(knn, X_train_scaled, y_train, X_test_scaled, y_test)"
   ]
  },
  {
   "cell_type": "code",
   "execution_count": 52,
   "id": "e01a1a70",
   "metadata": {},
   "outputs": [
    {
     "data": {
      "text/plain": [
       "array([[ 91,  19],\n",
       "       [ 16, 116]], dtype=int64)"
      ]
     },
     "execution_count": 52,
     "metadata": {},
     "output_type": "execute_result"
    }
   ],
   "source": [
    "knn_confusion_matrix = confusion_matrix(y_train, y_train_pred)\n",
    "knn_confusion_matrix"
   ]
  },
  {
   "cell_type": "code",
   "execution_count": 53,
   "id": "d4644ae5",
   "metadata": {},
   "outputs": [
    {
     "data": {
      "text/plain": [
       "array([[22,  6],\n",
       "       [ 2, 31]], dtype=int64)"
      ]
     },
     "execution_count": 53,
     "metadata": {},
     "output_type": "execute_result"
    }
   ],
   "source": [
    "knn_test_confusion_matrix = confusion_matrix(y_test, y_pred)\n",
    "knn_test_confusion_matrix"
   ]
  },
  {
   "cell_type": "markdown",
   "id": "3d14651c",
   "metadata": {},
   "source": [
    "# Visually compare models based on your chosen metric"
   ]
  },
  {
   "cell_type": "code",
   "execution_count": 54,
   "id": "0c731228",
   "metadata": {},
   "outputs": [
    {
     "name": "stdout",
     "output_type": "stream",
     "text": [
      "logistic_grid_confusion_matrix :\n",
      "[[ 86  24]\n",
      " [ 11 121]]\n",
      "logistic_grid_test_confusion_matrix :\n",
      "[[18 10]\n",
      " [ 1 32]]\n",
      "logistic_confusion_matrix :\n",
      "[[ 85  25]\n",
      " [ 13 119]]\n",
      "knn_confusion_matrix :\n",
      "[[ 91  19]\n",
      " [ 16 116]]\n",
      "knn_test_confusion_matrix :\n",
      "[[22  6]\n",
      " [ 2 31]]\n",
      "optimal_threshold_confusion_matrix :\n",
      "[[ 92  18]\n",
      " [ 21 111]]\n"
     ]
    }
   ],
   "source": [
    "print (f\"logistic_grid_confusion_matrix :\\n{logistic_grid_confusion_matrix}\")\n",
    "print (f\"logistic_grid_test_confusion_matrix :\\n{logistic_grid_test_confusion_matrix}\")\n",
    "print (f\"logistic_confusion_matrix :\\n{logistic_confusion_matrix}\")\n",
    "print (f\"knn_confusion_matrix :\\n{knn_confusion_matrix}\")\n",
    "print (f\"knn_test_confusion_matrix :\\n{knn_test_confusion_matrix}\")\n",
    "print (f\"optimal_threshold_confusion_matrix :\\n{optimal_threshold_confusion_matrix}\")"
   ]
  },
  {
   "cell_type": "raw",
   "id": "32b457b8",
   "metadata": {},
   "source": [
    "For detecting a heart stroke prediction, recall is more important so that i prefered 'recall' as metric. \n",
    "Also in detecting a heart stroke prediction decreasing the false negative (FN) is more important so that \n",
    "I will prefer Logistic Regression with Gridsearch as model.\n",
    "Logistic Regression with Gridsearch has best recall score and less FN."
   ]
  },
  {
   "cell_type": "markdown",
   "id": "3oDKxZRqx0Nw",
   "metadata": {
    "id": "3oDKxZRqx0Nw"
   },
   "source": [
    "# Chose best model and make a random prediction "
   ]
  },
  {
   "cell_type": "code",
   "execution_count": 55,
   "id": "pBjxBp8VxzhE",
   "metadata": {
    "id": "pBjxBp8VxzhE"
   },
   "outputs": [],
   "source": [
    "scaler = StandardScaler().fit(X)"
   ]
  },
  {
   "cell_type": "code",
   "execution_count": 56,
   "id": "580f98bd",
   "metadata": {},
   "outputs": [],
   "source": [
    "import pickle\n",
    "pickle.dump(scaler, open(\"heart_stroke\", 'wb'))"
   ]
  },
  {
   "cell_type": "code",
   "execution_count": 57,
   "id": "b8d286d7",
   "metadata": {},
   "outputs": [],
   "source": [
    "X_scaled = scaler.transform(X)"
   ]
  },
  {
   "cell_type": "code",
   "execution_count": 58,
   "id": "a3913b34",
   "metadata": {},
   "outputs": [
    {
     "data": {
      "text/plain": [
       "{'C': 0.1, 'class_weight': None, 'penalty': 'l1', 'solver': 'saga'}"
      ]
     },
     "execution_count": 58,
     "metadata": {},
     "output_type": "execute_result"
    }
   ],
   "source": [
    "grid_logistic_model.best_params_"
   ]
  },
  {
   "cell_type": "code",
   "execution_count": 59,
   "id": "da489e01",
   "metadata": {},
   "outputs": [],
   "source": [
    "final_model = final_model = LogisticRegression(C= 0.1, class_weight= None, penalty= 'l1',solver= 'saga').fit(X_scaled, y)"
   ]
  },
  {
   "cell_type": "code",
   "execution_count": 60,
   "id": "5acb274a",
   "metadata": {},
   "outputs": [],
   "source": [
    "pickle.dump(final_model, open(\"final_model_heart_stroke\", 'wb'))"
   ]
  },
  {
   "cell_type": "code",
   "execution_count": 61,
   "id": "99ab4650",
   "metadata": {},
   "outputs": [],
   "source": [
    "my_dict = {\"age\": [62, 72, 49, 65, 63],\n",
    "           \"sex\": [0, 0, 0, 1, 0],\n",
    "           \"cp\": [0, 1, 0, 0, 0],\n",
    "           \"trestbps\": [132, 162, 131, 183, 123],\n",
    "           \"chol\": [335, 307, 260, 328, 270],\n",
    "           \"fbs\": [0, 0, 1, 0, 0],\n",
    "           \"restecg\": [0, 1, 0, 1, 1],\n",
    "           \"thalach\": [167, 160, 145, 150, 95],\n",
    "           \"exang\": [0, 0, 1, 1, 1],\n",
    "           \"oldpeak\": [0, 0.4, 0, 0, 1.8],\n",
    "           \"slope\": [2, 2, 2, 2, 1],\n",
    "           \"ca\": [0, 2, 2, 0, 2],\n",
    "           \"thal\": [2, 2, 3, 2, 3]\n",
    "          }"
   ]
  },
  {
   "cell_type": "code",
   "execution_count": 62,
   "id": "f8b090dd",
   "metadata": {},
   "outputs": [
    {
     "data": {
      "text/html": [
       "<div>\n",
       "<style scoped>\n",
       "    .dataframe tbody tr th:only-of-type {\n",
       "        vertical-align: middle;\n",
       "    }\n",
       "\n",
       "    .dataframe tbody tr th {\n",
       "        vertical-align: top;\n",
       "    }\n",
       "\n",
       "    .dataframe thead th {\n",
       "        text-align: right;\n",
       "    }\n",
       "</style>\n",
       "<table border=\"1\" class=\"dataframe\">\n",
       "  <thead>\n",
       "    <tr style=\"text-align: right;\">\n",
       "      <th></th>\n",
       "      <th>age</th>\n",
       "      <th>sex</th>\n",
       "      <th>cp</th>\n",
       "      <th>trestbps</th>\n",
       "      <th>chol</th>\n",
       "      <th>fbs</th>\n",
       "      <th>restecg</th>\n",
       "      <th>thalach</th>\n",
       "      <th>exang</th>\n",
       "      <th>oldpeak</th>\n",
       "      <th>slope</th>\n",
       "      <th>ca</th>\n",
       "      <th>thal</th>\n",
       "    </tr>\n",
       "  </thead>\n",
       "  <tbody>\n",
       "    <tr>\n",
       "      <th>0</th>\n",
       "      <td>62</td>\n",
       "      <td>0</td>\n",
       "      <td>0</td>\n",
       "      <td>132</td>\n",
       "      <td>335</td>\n",
       "      <td>0</td>\n",
       "      <td>0</td>\n",
       "      <td>167</td>\n",
       "      <td>0</td>\n",
       "      <td>0.000</td>\n",
       "      <td>2</td>\n",
       "      <td>0</td>\n",
       "      <td>2</td>\n",
       "    </tr>\n",
       "    <tr>\n",
       "      <th>1</th>\n",
       "      <td>72</td>\n",
       "      <td>0</td>\n",
       "      <td>1</td>\n",
       "      <td>162</td>\n",
       "      <td>307</td>\n",
       "      <td>0</td>\n",
       "      <td>1</td>\n",
       "      <td>160</td>\n",
       "      <td>0</td>\n",
       "      <td>0.400</td>\n",
       "      <td>2</td>\n",
       "      <td>2</td>\n",
       "      <td>2</td>\n",
       "    </tr>\n",
       "    <tr>\n",
       "      <th>2</th>\n",
       "      <td>49</td>\n",
       "      <td>0</td>\n",
       "      <td>0</td>\n",
       "      <td>131</td>\n",
       "      <td>260</td>\n",
       "      <td>1</td>\n",
       "      <td>0</td>\n",
       "      <td>145</td>\n",
       "      <td>1</td>\n",
       "      <td>0.000</td>\n",
       "      <td>2</td>\n",
       "      <td>2</td>\n",
       "      <td>3</td>\n",
       "    </tr>\n",
       "    <tr>\n",
       "      <th>3</th>\n",
       "      <td>65</td>\n",
       "      <td>1</td>\n",
       "      <td>0</td>\n",
       "      <td>183</td>\n",
       "      <td>328</td>\n",
       "      <td>0</td>\n",
       "      <td>1</td>\n",
       "      <td>150</td>\n",
       "      <td>1</td>\n",
       "      <td>0.000</td>\n",
       "      <td>2</td>\n",
       "      <td>0</td>\n",
       "      <td>2</td>\n",
       "    </tr>\n",
       "    <tr>\n",
       "      <th>4</th>\n",
       "      <td>63</td>\n",
       "      <td>0</td>\n",
       "      <td>0</td>\n",
       "      <td>123</td>\n",
       "      <td>270</td>\n",
       "      <td>0</td>\n",
       "      <td>1</td>\n",
       "      <td>95</td>\n",
       "      <td>1</td>\n",
       "      <td>1.800</td>\n",
       "      <td>1</td>\n",
       "      <td>2</td>\n",
       "      <td>3</td>\n",
       "    </tr>\n",
       "  </tbody>\n",
       "</table>\n",
       "</div>"
      ],
      "text/plain": [
       "   age  sex  cp  trestbps  chol  fbs  restecg  thalach  exang  oldpeak  slope  \\\n",
       "0   62    0   0       132   335    0        0      167      0    0.000      2   \n",
       "1   72    0   1       162   307    0        1      160      0    0.400      2   \n",
       "2   49    0   0       131   260    1        0      145      1    0.000      2   \n",
       "3   65    1   0       183   328    0        1      150      1    0.000      2   \n",
       "4   63    0   0       123   270    0        1       95      1    1.800      1   \n",
       "\n",
       "   ca  thal  \n",
       "0   0     2  \n",
       "1   2     2  \n",
       "2   2     3  \n",
       "3   0     2  \n",
       "4   2     3  "
      ]
     },
     "execution_count": 62,
     "metadata": {},
     "output_type": "execute_result"
    }
   ],
   "source": [
    "sample = pd.DataFrame(my_dict)\n",
    "sample"
   ]
  },
  {
   "cell_type": "code",
   "execution_count": 63,
   "id": "1c295eb2",
   "metadata": {},
   "outputs": [],
   "source": [
    "scaler_heart_stroke = pickle.load(open(\"heart_stroke\", \"rb\"))"
   ]
  },
  {
   "cell_type": "code",
   "execution_count": 64,
   "id": "65bdfa37",
   "metadata": {},
   "outputs": [
    {
     "data": {
      "text/plain": [
       "array([[ 0.84190778, -1.46841752, -0.93851463,  0.02148802,  1.71486549,\n",
       "        -0.41763453, -1.00583187,  0.75886137, -0.69663055, -0.89686172,\n",
       "         0.97635214, -0.71442887, -0.51292188],\n",
       "       [ 1.94479604, -1.46841752,  0.03203122,  1.73487513,  1.17375198,\n",
       "        -0.41763453,  0.89896224,  0.45274783, -0.69663055, -0.55178349,\n",
       "         0.97635214,  1.24459328, -0.51292188],\n",
       "       [-0.59184697, -1.46841752, -0.93851463, -0.03562488,  0.26545431,\n",
       "         2.394438  , -1.00583187, -0.20320974,  1.43548113, -0.89686172,\n",
       "         0.97635214,  1.24459328,  1.12302895],\n",
       "       [ 1.17277425,  0.68100522, -0.93851463,  2.93424611,  1.57958711,\n",
       "        -0.41763453,  0.89896224,  0.01544279,  1.43548113, -0.89686172,\n",
       "         0.97635214, -0.71442887, -0.51292188],\n",
       "       [ 0.9521966 , -1.46841752, -0.93851463, -0.49252811,  0.45870914,\n",
       "        -0.41763453,  0.89896224, -2.38973499,  1.43548113,  0.65599028,\n",
       "        -0.64911323,  1.24459328,  1.12302895]])"
      ]
     },
     "execution_count": 64,
     "metadata": {},
     "output_type": "execute_result"
    }
   ],
   "source": [
    "sample_scaled = scaler_heart_stroke.transform(sample)\n",
    "sample_scaled"
   ]
  },
  {
   "cell_type": "code",
   "execution_count": 65,
   "id": "b6a7dc67",
   "metadata": {},
   "outputs": [],
   "source": [
    "final_model = pickle.load(open(\"final_model_heart_stroke\", \"rb\"))"
   ]
  },
  {
   "cell_type": "code",
   "execution_count": 66,
   "id": "edb3df0b",
   "metadata": {},
   "outputs": [],
   "source": [
    "predictions = final_model.predict(sample_scaled)\n",
    "predictions_proba = final_model.predict_proba(sample_scaled)\n",
    "predictions2 = [1 if i >= optimal_threshold else 0 for i in predictions_proba[:,1]]"
   ]
  },
  {
   "cell_type": "code",
   "execution_count": 67,
   "id": "a485dbc0",
   "metadata": {},
   "outputs": [
    {
     "data": {
      "text/plain": [
       "0.598181635122485"
      ]
     },
     "execution_count": 67,
     "metadata": {},
     "output_type": "execute_result"
    }
   ],
   "source": [
    "optimal_threshold"
   ]
  },
  {
   "cell_type": "code",
   "execution_count": 68,
   "id": "05588d59",
   "metadata": {},
   "outputs": [
    {
     "data": {
      "text/html": [
       "<div>\n",
       "<style scoped>\n",
       "    .dataframe tbody tr th:only-of-type {\n",
       "        vertical-align: middle;\n",
       "    }\n",
       "\n",
       "    .dataframe tbody tr th {\n",
       "        vertical-align: top;\n",
       "    }\n",
       "\n",
       "    .dataframe thead th {\n",
       "        text-align: right;\n",
       "    }\n",
       "</style>\n",
       "<table border=\"1\" class=\"dataframe\">\n",
       "  <thead>\n",
       "    <tr style=\"text-align: right;\">\n",
       "      <th></th>\n",
       "      <th>age</th>\n",
       "      <th>sex</th>\n",
       "      <th>cp</th>\n",
       "      <th>trestbps</th>\n",
       "      <th>chol</th>\n",
       "      <th>fbs</th>\n",
       "      <th>restecg</th>\n",
       "      <th>thalach</th>\n",
       "      <th>exang</th>\n",
       "      <th>oldpeak</th>\n",
       "      <th>slope</th>\n",
       "      <th>ca</th>\n",
       "      <th>thal</th>\n",
       "      <th>pred_proba</th>\n",
       "      <th>prediction</th>\n",
       "      <th>pred_0.59</th>\n",
       "    </tr>\n",
       "  </thead>\n",
       "  <tbody>\n",
       "    <tr>\n",
       "      <th>0</th>\n",
       "      <td>62</td>\n",
       "      <td>0</td>\n",
       "      <td>0</td>\n",
       "      <td>132</td>\n",
       "      <td>335</td>\n",
       "      <td>0</td>\n",
       "      <td>0</td>\n",
       "      <td>167</td>\n",
       "      <td>0</td>\n",
       "      <td>0.000</td>\n",
       "      <td>2</td>\n",
       "      <td>0</td>\n",
       "      <td>2</td>\n",
       "      <td>0.844</td>\n",
       "      <td>1</td>\n",
       "      <td>1</td>\n",
       "    </tr>\n",
       "    <tr>\n",
       "      <th>1</th>\n",
       "      <td>72</td>\n",
       "      <td>0</td>\n",
       "      <td>1</td>\n",
       "      <td>162</td>\n",
       "      <td>307</td>\n",
       "      <td>0</td>\n",
       "      <td>1</td>\n",
       "      <td>160</td>\n",
       "      <td>0</td>\n",
       "      <td>0.400</td>\n",
       "      <td>2</td>\n",
       "      <td>2</td>\n",
       "      <td>2</td>\n",
       "      <td>0.722</td>\n",
       "      <td>1</td>\n",
       "      <td>1</td>\n",
       "    </tr>\n",
       "    <tr>\n",
       "      <th>2</th>\n",
       "      <td>49</td>\n",
       "      <td>0</td>\n",
       "      <td>0</td>\n",
       "      <td>131</td>\n",
       "      <td>260</td>\n",
       "      <td>1</td>\n",
       "      <td>0</td>\n",
       "      <td>145</td>\n",
       "      <td>1</td>\n",
       "      <td>0.000</td>\n",
       "      <td>2</td>\n",
       "      <td>2</td>\n",
       "      <td>3</td>\n",
       "      <td>0.311</td>\n",
       "      <td>0</td>\n",
       "      <td>0</td>\n",
       "    </tr>\n",
       "    <tr>\n",
       "      <th>3</th>\n",
       "      <td>65</td>\n",
       "      <td>1</td>\n",
       "      <td>0</td>\n",
       "      <td>183</td>\n",
       "      <td>328</td>\n",
       "      <td>0</td>\n",
       "      <td>1</td>\n",
       "      <td>150</td>\n",
       "      <td>1</td>\n",
       "      <td>0.000</td>\n",
       "      <td>2</td>\n",
       "      <td>0</td>\n",
       "      <td>2</td>\n",
       "      <td>0.463</td>\n",
       "      <td>0</td>\n",
       "      <td>0</td>\n",
       "    </tr>\n",
       "    <tr>\n",
       "      <th>4</th>\n",
       "      <td>63</td>\n",
       "      <td>0</td>\n",
       "      <td>0</td>\n",
       "      <td>123</td>\n",
       "      <td>270</td>\n",
       "      <td>0</td>\n",
       "      <td>1</td>\n",
       "      <td>95</td>\n",
       "      <td>1</td>\n",
       "      <td>1.800</td>\n",
       "      <td>1</td>\n",
       "      <td>2</td>\n",
       "      <td>3</td>\n",
       "      <td>0.088</td>\n",
       "      <td>0</td>\n",
       "      <td>0</td>\n",
       "    </tr>\n",
       "  </tbody>\n",
       "</table>\n",
       "</div>"
      ],
      "text/plain": [
       "   age  sex  cp  trestbps  chol  fbs  restecg  thalach  exang  oldpeak  slope  \\\n",
       "0   62    0   0       132   335    0        0      167      0    0.000      2   \n",
       "1   72    0   1       162   307    0        1      160      0    0.400      2   \n",
       "2   49    0   0       131   260    1        0      145      1    0.000      2   \n",
       "3   65    1   0       183   328    0        1      150      1    0.000      2   \n",
       "4   63    0   0       123   270    0        1       95      1    1.800      1   \n",
       "\n",
       "   ca  thal  pred_proba  prediction  pred_0.59  \n",
       "0   0     2       0.844           1          1  \n",
       "1   2     2       0.722           1          1  \n",
       "2   2     3       0.311           0          0  \n",
       "3   0     2       0.463           0          0  \n",
       "4   2     3       0.088           0          0  "
      ]
     },
     "execution_count": 68,
     "metadata": {},
     "output_type": "execute_result"
    }
   ],
   "source": [
    "sample[\"pred_proba\"] = predictions_proba[:,1]\n",
    "sample[\"prediction\"] = predictions\n",
    "sample[\"pred_0.59\"] = predictions2\n",
    "sample"
   ]
  },
  {
   "cell_type": "code",
   "execution_count": null,
   "id": "d3f645f3",
   "metadata": {},
   "outputs": [],
   "source": []
  }
 ],
 "metadata": {
  "colab": {
   "collapsed_sections": [],
   "name": "Heart_Stroke_Prediction_lab.ipynb",
   "provenance": []
  },
  "kernelspec": {
   "display_name": "Python 3 (ipykernel)",
   "language": "python",
   "name": "python3"
  },
  "language_info": {
   "codemirror_mode": {
    "name": "ipython",
    "version": 3
   },
   "file_extension": ".py",
   "mimetype": "text/x-python",
   "name": "python",
   "nbconvert_exporter": "python",
   "pygments_lexer": "ipython3",
   "version": "3.9.7"
  },
  "toc": {
   "base_numbering": 1,
   "nav_menu": {},
   "number_sections": true,
   "sideBar": true,
   "skip_h1_title": false,
   "title_cell": "Table of Contents",
   "title_sidebar": "Contents",
   "toc_cell": false,
   "toc_position": {},
   "toc_section_display": true,
   "toc_window_display": true
  }
 },
 "nbformat": 4,
 "nbformat_minor": 5
}
